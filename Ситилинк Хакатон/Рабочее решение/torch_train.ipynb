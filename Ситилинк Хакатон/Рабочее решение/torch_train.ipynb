{
  "nbformat": 4,
  "nbformat_minor": 0,
  "metadata": {
    "accelerator": "GPU",
    "colab": {
      "name": "torch_train.ipynb",
      "provenance": [],
      "collapsed_sections": []
    },
    "kernelspec": {
      "display_name": "Python 3",
      "name": "python3"
    },
    "widgets": {
      "application/vnd.jupyter.widget-state+json": {
        "8801d1ef4cfa4f8fb80d50bc2a9b13ef": {
          "model_module": "@jupyter-widgets/controls",
          "model_name": "HBoxModel",
          "state": {
            "_view_name": "HBoxView",
            "_dom_classes": [],
            "_model_name": "HBoxModel",
            "_view_module": "@jupyter-widgets/controls",
            "_model_module_version": "1.5.0",
            "_view_count": null,
            "_view_module_version": "1.5.0",
            "box_style": "",
            "layout": "IPY_MODEL_37cef5b0ab94412fbc432bd1aebb6884",
            "_model_module": "@jupyter-widgets/controls",
            "children": [
              "IPY_MODEL_626f7ed7e71448d6a7c17ae9862e5e1c",
              "IPY_MODEL_27e145713aae4476a939ebe4298bf4f0"
            ]
          }
        },
        "37cef5b0ab94412fbc432bd1aebb6884": {
          "model_module": "@jupyter-widgets/base",
          "model_name": "LayoutModel",
          "state": {
            "_view_name": "LayoutView",
            "grid_template_rows": null,
            "right": null,
            "justify_content": null,
            "_view_module": "@jupyter-widgets/base",
            "overflow": null,
            "_model_module_version": "1.2.0",
            "_view_count": null,
            "flex_flow": null,
            "width": null,
            "min_width": null,
            "border": null,
            "align_items": null,
            "bottom": null,
            "_model_module": "@jupyter-widgets/base",
            "top": null,
            "grid_column": null,
            "overflow_y": null,
            "overflow_x": null,
            "grid_auto_flow": null,
            "grid_area": null,
            "grid_template_columns": null,
            "flex": null,
            "_model_name": "LayoutModel",
            "justify_items": null,
            "grid_row": null,
            "max_height": null,
            "align_content": null,
            "visibility": null,
            "align_self": null,
            "height": null,
            "min_height": null,
            "padding": null,
            "grid_auto_rows": null,
            "grid_gap": null,
            "max_width": null,
            "order": null,
            "_view_module_version": "1.2.0",
            "grid_template_areas": null,
            "object_position": null,
            "object_fit": null,
            "grid_auto_columns": null,
            "margin": null,
            "display": null,
            "left": null
          }
        },
        "626f7ed7e71448d6a7c17ae9862e5e1c": {
          "model_module": "@jupyter-widgets/controls",
          "model_name": "FloatProgressModel",
          "state": {
            "_view_name": "ProgressView",
            "style": "IPY_MODEL_6d1bc6ea05074be79185283913c4f9a3",
            "_dom_classes": [],
            "description": "100%",
            "_model_name": "FloatProgressModel",
            "bar_style": "success",
            "max": 20121,
            "_view_module": "@jupyter-widgets/controls",
            "_model_module_version": "1.5.0",
            "value": 20121,
            "_view_count": null,
            "_view_module_version": "1.5.0",
            "orientation": "horizontal",
            "min": 0,
            "description_tooltip": null,
            "_model_module": "@jupyter-widgets/controls",
            "layout": "IPY_MODEL_b1d9a4bcea1f4dbf8cdd10beb846c88d"
          }
        },
        "27e145713aae4476a939ebe4298bf4f0": {
          "model_module": "@jupyter-widgets/controls",
          "model_name": "HTMLModel",
          "state": {
            "_view_name": "HTMLView",
            "style": "IPY_MODEL_0fd0065d19ef4956b40c0ec9f88f7bf4",
            "_dom_classes": [],
            "description": "",
            "_model_name": "HTMLModel",
            "placeholder": "​",
            "_view_module": "@jupyter-widgets/controls",
            "_model_module_version": "1.5.0",
            "value": " 20121/20121 [06:37&lt;00:00, 50.65it/s]",
            "_view_count": null,
            "_view_module_version": "1.5.0",
            "description_tooltip": null,
            "_model_module": "@jupyter-widgets/controls",
            "layout": "IPY_MODEL_7ba4aa502b5149c39c5affb43c734910"
          }
        },
        "6d1bc6ea05074be79185283913c4f9a3": {
          "model_module": "@jupyter-widgets/controls",
          "model_name": "ProgressStyleModel",
          "state": {
            "_view_name": "StyleView",
            "_model_name": "ProgressStyleModel",
            "description_width": "initial",
            "_view_module": "@jupyter-widgets/base",
            "_model_module_version": "1.5.0",
            "_view_count": null,
            "_view_module_version": "1.2.0",
            "bar_color": null,
            "_model_module": "@jupyter-widgets/controls"
          }
        },
        "b1d9a4bcea1f4dbf8cdd10beb846c88d": {
          "model_module": "@jupyter-widgets/base",
          "model_name": "LayoutModel",
          "state": {
            "_view_name": "LayoutView",
            "grid_template_rows": null,
            "right": null,
            "justify_content": null,
            "_view_module": "@jupyter-widgets/base",
            "overflow": null,
            "_model_module_version": "1.2.0",
            "_view_count": null,
            "flex_flow": null,
            "width": null,
            "min_width": null,
            "border": null,
            "align_items": null,
            "bottom": null,
            "_model_module": "@jupyter-widgets/base",
            "top": null,
            "grid_column": null,
            "overflow_y": null,
            "overflow_x": null,
            "grid_auto_flow": null,
            "grid_area": null,
            "grid_template_columns": null,
            "flex": null,
            "_model_name": "LayoutModel",
            "justify_items": null,
            "grid_row": null,
            "max_height": null,
            "align_content": null,
            "visibility": null,
            "align_self": null,
            "height": null,
            "min_height": null,
            "padding": null,
            "grid_auto_rows": null,
            "grid_gap": null,
            "max_width": null,
            "order": null,
            "_view_module_version": "1.2.0",
            "grid_template_areas": null,
            "object_position": null,
            "object_fit": null,
            "grid_auto_columns": null,
            "margin": null,
            "display": null,
            "left": null
          }
        },
        "0fd0065d19ef4956b40c0ec9f88f7bf4": {
          "model_module": "@jupyter-widgets/controls",
          "model_name": "DescriptionStyleModel",
          "state": {
            "_view_name": "StyleView",
            "_model_name": "DescriptionStyleModel",
            "description_width": "",
            "_view_module": "@jupyter-widgets/base",
            "_model_module_version": "1.5.0",
            "_view_count": null,
            "_view_module_version": "1.2.0",
            "_model_module": "@jupyter-widgets/controls"
          }
        },
        "7ba4aa502b5149c39c5affb43c734910": {
          "model_module": "@jupyter-widgets/base",
          "model_name": "LayoutModel",
          "state": {
            "_view_name": "LayoutView",
            "grid_template_rows": null,
            "right": null,
            "justify_content": null,
            "_view_module": "@jupyter-widgets/base",
            "overflow": null,
            "_model_module_version": "1.2.0",
            "_view_count": null,
            "flex_flow": null,
            "width": null,
            "min_width": null,
            "border": null,
            "align_items": null,
            "bottom": null,
            "_model_module": "@jupyter-widgets/base",
            "top": null,
            "grid_column": null,
            "overflow_y": null,
            "overflow_x": null,
            "grid_auto_flow": null,
            "grid_area": null,
            "grid_template_columns": null,
            "flex": null,
            "_model_name": "LayoutModel",
            "justify_items": null,
            "grid_row": null,
            "max_height": null,
            "align_content": null,
            "visibility": null,
            "align_self": null,
            "height": null,
            "min_height": null,
            "padding": null,
            "grid_auto_rows": null,
            "grid_gap": null,
            "max_width": null,
            "order": null,
            "_view_module_version": "1.2.0",
            "grid_template_areas": null,
            "object_position": null,
            "object_fit": null,
            "grid_auto_columns": null,
            "margin": null,
            "display": null,
            "left": null
          }
        },
        "445ee6b4a8984ec4b6404f70183800a1": {
          "model_module": "@jupyter-widgets/controls",
          "model_name": "HBoxModel",
          "state": {
            "_view_name": "HBoxView",
            "_dom_classes": [],
            "_model_name": "HBoxModel",
            "_view_module": "@jupyter-widgets/controls",
            "_model_module_version": "1.5.0",
            "_view_count": null,
            "_view_module_version": "1.5.0",
            "box_style": "",
            "layout": "IPY_MODEL_6f9d1d7e3912448b9d9777eb65941bc2",
            "_model_module": "@jupyter-widgets/controls",
            "children": [
              "IPY_MODEL_f38f2a4683ab44eab71fe423ada2920e",
              "IPY_MODEL_f29ae590d4c14defbbd2f34337452741"
            ]
          }
        },
        "6f9d1d7e3912448b9d9777eb65941bc2": {
          "model_module": "@jupyter-widgets/base",
          "model_name": "LayoutModel",
          "state": {
            "_view_name": "LayoutView",
            "grid_template_rows": null,
            "right": null,
            "justify_content": null,
            "_view_module": "@jupyter-widgets/base",
            "overflow": null,
            "_model_module_version": "1.2.0",
            "_view_count": null,
            "flex_flow": null,
            "width": null,
            "min_width": null,
            "border": null,
            "align_items": null,
            "bottom": null,
            "_model_module": "@jupyter-widgets/base",
            "top": null,
            "grid_column": null,
            "overflow_y": null,
            "overflow_x": null,
            "grid_auto_flow": null,
            "grid_area": null,
            "grid_template_columns": null,
            "flex": null,
            "_model_name": "LayoutModel",
            "justify_items": null,
            "grid_row": null,
            "max_height": null,
            "align_content": null,
            "visibility": null,
            "align_self": null,
            "height": null,
            "min_height": null,
            "padding": null,
            "grid_auto_rows": null,
            "grid_gap": null,
            "max_width": null,
            "order": null,
            "_view_module_version": "1.2.0",
            "grid_template_areas": null,
            "object_position": null,
            "object_fit": null,
            "grid_auto_columns": null,
            "margin": null,
            "display": null,
            "left": null
          }
        },
        "f38f2a4683ab44eab71fe423ada2920e": {
          "model_module": "@jupyter-widgets/controls",
          "model_name": "FloatProgressModel",
          "state": {
            "_view_name": "ProgressView",
            "style": "IPY_MODEL_1156bce8df5b4fd8b735177b13096489",
            "_dom_classes": [],
            "description": "100%",
            "_model_name": "FloatProgressModel",
            "bar_style": "success",
            "max": 204,
            "_view_module": "@jupyter-widgets/controls",
            "_model_module_version": "1.5.0",
            "value": 204,
            "_view_count": null,
            "_view_module_version": "1.5.0",
            "orientation": "horizontal",
            "min": 0,
            "description_tooltip": null,
            "_model_module": "@jupyter-widgets/controls",
            "layout": "IPY_MODEL_680958876c2c41debdbe442270cb62e5"
          }
        },
        "f29ae590d4c14defbbd2f34337452741": {
          "model_module": "@jupyter-widgets/controls",
          "model_name": "HTMLModel",
          "state": {
            "_view_name": "HTMLView",
            "style": "IPY_MODEL_5aeb6bdc7aa847c3be27361c258d82df",
            "_dom_classes": [],
            "description": "",
            "_model_name": "HTMLModel",
            "placeholder": "​",
            "_view_module": "@jupyter-widgets/controls",
            "_model_module_version": "1.5.0",
            "value": " 204/204 [00:04&lt;00:00, 48.51it/s]",
            "_view_count": null,
            "_view_module_version": "1.5.0",
            "description_tooltip": null,
            "_model_module": "@jupyter-widgets/controls",
            "layout": "IPY_MODEL_1b1035e98a3145f6b48d3ebf6f0599cd"
          }
        },
        "1156bce8df5b4fd8b735177b13096489": {
          "model_module": "@jupyter-widgets/controls",
          "model_name": "ProgressStyleModel",
          "state": {
            "_view_name": "StyleView",
            "_model_name": "ProgressStyleModel",
            "description_width": "initial",
            "_view_module": "@jupyter-widgets/base",
            "_model_module_version": "1.5.0",
            "_view_count": null,
            "_view_module_version": "1.2.0",
            "bar_color": null,
            "_model_module": "@jupyter-widgets/controls"
          }
        },
        "680958876c2c41debdbe442270cb62e5": {
          "model_module": "@jupyter-widgets/base",
          "model_name": "LayoutModel",
          "state": {
            "_view_name": "LayoutView",
            "grid_template_rows": null,
            "right": null,
            "justify_content": null,
            "_view_module": "@jupyter-widgets/base",
            "overflow": null,
            "_model_module_version": "1.2.0",
            "_view_count": null,
            "flex_flow": null,
            "width": null,
            "min_width": null,
            "border": null,
            "align_items": null,
            "bottom": null,
            "_model_module": "@jupyter-widgets/base",
            "top": null,
            "grid_column": null,
            "overflow_y": null,
            "overflow_x": null,
            "grid_auto_flow": null,
            "grid_area": null,
            "grid_template_columns": null,
            "flex": null,
            "_model_name": "LayoutModel",
            "justify_items": null,
            "grid_row": null,
            "max_height": null,
            "align_content": null,
            "visibility": null,
            "align_self": null,
            "height": null,
            "min_height": null,
            "padding": null,
            "grid_auto_rows": null,
            "grid_gap": null,
            "max_width": null,
            "order": null,
            "_view_module_version": "1.2.0",
            "grid_template_areas": null,
            "object_position": null,
            "object_fit": null,
            "grid_auto_columns": null,
            "margin": null,
            "display": null,
            "left": null
          }
        },
        "5aeb6bdc7aa847c3be27361c258d82df": {
          "model_module": "@jupyter-widgets/controls",
          "model_name": "DescriptionStyleModel",
          "state": {
            "_view_name": "StyleView",
            "_model_name": "DescriptionStyleModel",
            "description_width": "",
            "_view_module": "@jupyter-widgets/base",
            "_model_module_version": "1.5.0",
            "_view_count": null,
            "_view_module_version": "1.2.0",
            "_model_module": "@jupyter-widgets/controls"
          }
        },
        "1b1035e98a3145f6b48d3ebf6f0599cd": {
          "model_module": "@jupyter-widgets/base",
          "model_name": "LayoutModel",
          "state": {
            "_view_name": "LayoutView",
            "grid_template_rows": null,
            "right": null,
            "justify_content": null,
            "_view_module": "@jupyter-widgets/base",
            "overflow": null,
            "_model_module_version": "1.2.0",
            "_view_count": null,
            "flex_flow": null,
            "width": null,
            "min_width": null,
            "border": null,
            "align_items": null,
            "bottom": null,
            "_model_module": "@jupyter-widgets/base",
            "top": null,
            "grid_column": null,
            "overflow_y": null,
            "overflow_x": null,
            "grid_auto_flow": null,
            "grid_area": null,
            "grid_template_columns": null,
            "flex": null,
            "_model_name": "LayoutModel",
            "justify_items": null,
            "grid_row": null,
            "max_height": null,
            "align_content": null,
            "visibility": null,
            "align_self": null,
            "height": null,
            "min_height": null,
            "padding": null,
            "grid_auto_rows": null,
            "grid_gap": null,
            "max_width": null,
            "order": null,
            "_view_module_version": "1.2.0",
            "grid_template_areas": null,
            "object_position": null,
            "object_fit": null,
            "grid_auto_columns": null,
            "margin": null,
            "display": null,
            "left": null
          }
        },
        "44b18cc25ed941baa0eb2b2693f23b71": {
          "model_module": "@jupyter-widgets/controls",
          "model_name": "HBoxModel",
          "state": {
            "_view_name": "HBoxView",
            "_dom_classes": [],
            "_model_name": "HBoxModel",
            "_view_module": "@jupyter-widgets/controls",
            "_model_module_version": "1.5.0",
            "_view_count": null,
            "_view_module_version": "1.5.0",
            "box_style": "",
            "layout": "IPY_MODEL_153e87157340452aa27a376981b43f06",
            "_model_module": "@jupyter-widgets/controls",
            "children": [
              "IPY_MODEL_f4bb68ae755e48bf93b317b2811c0eef",
              "IPY_MODEL_1719b545329044408c368590ec1dd7bb"
            ]
          }
        },
        "153e87157340452aa27a376981b43f06": {
          "model_module": "@jupyter-widgets/base",
          "model_name": "LayoutModel",
          "state": {
            "_view_name": "LayoutView",
            "grid_template_rows": null,
            "right": null,
            "justify_content": null,
            "_view_module": "@jupyter-widgets/base",
            "overflow": null,
            "_model_module_version": "1.2.0",
            "_view_count": null,
            "flex_flow": null,
            "width": null,
            "min_width": null,
            "border": null,
            "align_items": null,
            "bottom": null,
            "_model_module": "@jupyter-widgets/base",
            "top": null,
            "grid_column": null,
            "overflow_y": null,
            "overflow_x": null,
            "grid_auto_flow": null,
            "grid_area": null,
            "grid_template_columns": null,
            "flex": null,
            "_model_name": "LayoutModel",
            "justify_items": null,
            "grid_row": null,
            "max_height": null,
            "align_content": null,
            "visibility": null,
            "align_self": null,
            "height": null,
            "min_height": null,
            "padding": null,
            "grid_auto_rows": null,
            "grid_gap": null,
            "max_width": null,
            "order": null,
            "_view_module_version": "1.2.0",
            "grid_template_areas": null,
            "object_position": null,
            "object_fit": null,
            "grid_auto_columns": null,
            "margin": null,
            "display": null,
            "left": null
          }
        },
        "f4bb68ae755e48bf93b317b2811c0eef": {
          "model_module": "@jupyter-widgets/controls",
          "model_name": "FloatProgressModel",
          "state": {
            "_view_name": "ProgressView",
            "style": "IPY_MODEL_31e40f5bd820484e87485cce8c27f73e",
            "_dom_classes": [],
            "description": "100%",
            "_model_name": "FloatProgressModel",
            "bar_style": "success",
            "max": 46827520,
            "_view_module": "@jupyter-widgets/controls",
            "_model_module_version": "1.5.0",
            "value": 46827520,
            "_view_count": null,
            "_view_module_version": "1.5.0",
            "orientation": "horizontal",
            "min": 0,
            "description_tooltip": null,
            "_model_module": "@jupyter-widgets/controls",
            "layout": "IPY_MODEL_6b8abf7c472d4995b93604416257aa0e"
          }
        },
        "1719b545329044408c368590ec1dd7bb": {
          "model_module": "@jupyter-widgets/controls",
          "model_name": "HTMLModel",
          "state": {
            "_view_name": "HTMLView",
            "style": "IPY_MODEL_bc7722d0eb4b4d5483638be33bd05bb0",
            "_dom_classes": [],
            "description": "",
            "_model_name": "HTMLModel",
            "placeholder": "​",
            "_view_module": "@jupyter-widgets/controls",
            "_model_module_version": "1.5.0",
            "value": " 44.7M/44.7M [00:00&lt;00:00, 145MB/s]",
            "_view_count": null,
            "_view_module_version": "1.5.0",
            "description_tooltip": null,
            "_model_module": "@jupyter-widgets/controls",
            "layout": "IPY_MODEL_b19f13de01924f70b8cb5a8fd72af8ef"
          }
        },
        "31e40f5bd820484e87485cce8c27f73e": {
          "model_module": "@jupyter-widgets/controls",
          "model_name": "ProgressStyleModel",
          "state": {
            "_view_name": "StyleView",
            "_model_name": "ProgressStyleModel",
            "description_width": "initial",
            "_view_module": "@jupyter-widgets/base",
            "_model_module_version": "1.5.0",
            "_view_count": null,
            "_view_module_version": "1.2.0",
            "bar_color": null,
            "_model_module": "@jupyter-widgets/controls"
          }
        },
        "6b8abf7c472d4995b93604416257aa0e": {
          "model_module": "@jupyter-widgets/base",
          "model_name": "LayoutModel",
          "state": {
            "_view_name": "LayoutView",
            "grid_template_rows": null,
            "right": null,
            "justify_content": null,
            "_view_module": "@jupyter-widgets/base",
            "overflow": null,
            "_model_module_version": "1.2.0",
            "_view_count": null,
            "flex_flow": null,
            "width": null,
            "min_width": null,
            "border": null,
            "align_items": null,
            "bottom": null,
            "_model_module": "@jupyter-widgets/base",
            "top": null,
            "grid_column": null,
            "overflow_y": null,
            "overflow_x": null,
            "grid_auto_flow": null,
            "grid_area": null,
            "grid_template_columns": null,
            "flex": null,
            "_model_name": "LayoutModel",
            "justify_items": null,
            "grid_row": null,
            "max_height": null,
            "align_content": null,
            "visibility": null,
            "align_self": null,
            "height": null,
            "min_height": null,
            "padding": null,
            "grid_auto_rows": null,
            "grid_gap": null,
            "max_width": null,
            "order": null,
            "_view_module_version": "1.2.0",
            "grid_template_areas": null,
            "object_position": null,
            "object_fit": null,
            "grid_auto_columns": null,
            "margin": null,
            "display": null,
            "left": null
          }
        },
        "bc7722d0eb4b4d5483638be33bd05bb0": {
          "model_module": "@jupyter-widgets/controls",
          "model_name": "DescriptionStyleModel",
          "state": {
            "_view_name": "StyleView",
            "_model_name": "DescriptionStyleModel",
            "description_width": "",
            "_view_module": "@jupyter-widgets/base",
            "_model_module_version": "1.5.0",
            "_view_count": null,
            "_view_module_version": "1.2.0",
            "_model_module": "@jupyter-widgets/controls"
          }
        },
        "b19f13de01924f70b8cb5a8fd72af8ef": {
          "model_module": "@jupyter-widgets/base",
          "model_name": "LayoutModel",
          "state": {
            "_view_name": "LayoutView",
            "grid_template_rows": null,
            "right": null,
            "justify_content": null,
            "_view_module": "@jupyter-widgets/base",
            "overflow": null,
            "_model_module_version": "1.2.0",
            "_view_count": null,
            "flex_flow": null,
            "width": null,
            "min_width": null,
            "border": null,
            "align_items": null,
            "bottom": null,
            "_model_module": "@jupyter-widgets/base",
            "top": null,
            "grid_column": null,
            "overflow_y": null,
            "overflow_x": null,
            "grid_auto_flow": null,
            "grid_area": null,
            "grid_template_columns": null,
            "flex": null,
            "_model_name": "LayoutModel",
            "justify_items": null,
            "grid_row": null,
            "max_height": null,
            "align_content": null,
            "visibility": null,
            "align_self": null,
            "height": null,
            "min_height": null,
            "padding": null,
            "grid_auto_rows": null,
            "grid_gap": null,
            "max_width": null,
            "order": null,
            "_view_module_version": "1.2.0",
            "grid_template_areas": null,
            "object_position": null,
            "object_fit": null,
            "grid_auto_columns": null,
            "margin": null,
            "display": null,
            "left": null
          }
        },
        "1fede86e5c364085a36270d14f3d752f": {
          "model_module": "@jupyter-widgets/controls",
          "model_name": "HBoxModel",
          "state": {
            "_view_name": "HBoxView",
            "_dom_classes": [],
            "_model_name": "HBoxModel",
            "_view_module": "@jupyter-widgets/controls",
            "_model_module_version": "1.5.0",
            "_view_count": null,
            "_view_module_version": "1.5.0",
            "box_style": "",
            "layout": "IPY_MODEL_33355226a1774dc280f4f3dafe814a67",
            "_model_module": "@jupyter-widgets/controls",
            "children": [
              "IPY_MODEL_42f1509da98c4047943146f4b3ee096d",
              "IPY_MODEL_da46a6e39028434eb8569de1e6bf9b2c"
            ]
          }
        },
        "33355226a1774dc280f4f3dafe814a67": {
          "model_module": "@jupyter-widgets/base",
          "model_name": "LayoutModel",
          "state": {
            "_view_name": "LayoutView",
            "grid_template_rows": null,
            "right": null,
            "justify_content": null,
            "_view_module": "@jupyter-widgets/base",
            "overflow": null,
            "_model_module_version": "1.2.0",
            "_view_count": null,
            "flex_flow": null,
            "width": null,
            "min_width": null,
            "border": null,
            "align_items": null,
            "bottom": null,
            "_model_module": "@jupyter-widgets/base",
            "top": null,
            "grid_column": null,
            "overflow_y": null,
            "overflow_x": null,
            "grid_auto_flow": null,
            "grid_area": null,
            "grid_template_columns": null,
            "flex": null,
            "_model_name": "LayoutModel",
            "justify_items": null,
            "grid_row": null,
            "max_height": null,
            "align_content": null,
            "visibility": null,
            "align_self": null,
            "height": null,
            "min_height": null,
            "padding": null,
            "grid_auto_rows": null,
            "grid_gap": null,
            "max_width": null,
            "order": null,
            "_view_module_version": "1.2.0",
            "grid_template_areas": null,
            "object_position": null,
            "object_fit": null,
            "grid_auto_columns": null,
            "margin": null,
            "display": null,
            "left": null
          }
        },
        "42f1509da98c4047943146f4b3ee096d": {
          "model_module": "@jupyter-widgets/controls",
          "model_name": "FloatProgressModel",
          "state": {
            "_view_name": "ProgressView",
            "style": "IPY_MODEL_1a6db39dd39f459e9eacf58f4ca79d92",
            "_dom_classes": [],
            "description": "100%",
            "_model_name": "FloatProgressModel",
            "bar_style": "success",
            "max": 7,
            "_view_module": "@jupyter-widgets/controls",
            "_model_module_version": "1.5.0",
            "value": 7,
            "_view_count": null,
            "_view_module_version": "1.5.0",
            "orientation": "horizontal",
            "min": 0,
            "description_tooltip": null,
            "_model_module": "@jupyter-widgets/controls",
            "layout": "IPY_MODEL_36c35e7bb36542df899637000b4971de"
          }
        },
        "da46a6e39028434eb8569de1e6bf9b2c": {
          "model_module": "@jupyter-widgets/controls",
          "model_name": "HTMLModel",
          "state": {
            "_view_name": "HTMLView",
            "style": "IPY_MODEL_3249df2e13a24194852f1ce40b1a31c7",
            "_dom_classes": [],
            "description": "",
            "_model_name": "HTMLModel",
            "placeholder": "​",
            "_view_module": "@jupyter-widgets/controls",
            "_model_module_version": "1.5.0",
            "value": " 7/7 [03:30&lt;00:00, 30.03s/it]",
            "_view_count": null,
            "_view_module_version": "1.5.0",
            "description_tooltip": null,
            "_model_module": "@jupyter-widgets/controls",
            "layout": "IPY_MODEL_cdbaace27eb94c3884d0ef52ef19f052"
          }
        },
        "1a6db39dd39f459e9eacf58f4ca79d92": {
          "model_module": "@jupyter-widgets/controls",
          "model_name": "ProgressStyleModel",
          "state": {
            "_view_name": "StyleView",
            "_model_name": "ProgressStyleModel",
            "description_width": "initial",
            "_view_module": "@jupyter-widgets/base",
            "_model_module_version": "1.5.0",
            "_view_count": null,
            "_view_module_version": "1.2.0",
            "bar_color": null,
            "_model_module": "@jupyter-widgets/controls"
          }
        },
        "36c35e7bb36542df899637000b4971de": {
          "model_module": "@jupyter-widgets/base",
          "model_name": "LayoutModel",
          "state": {
            "_view_name": "LayoutView",
            "grid_template_rows": null,
            "right": null,
            "justify_content": null,
            "_view_module": "@jupyter-widgets/base",
            "overflow": null,
            "_model_module_version": "1.2.0",
            "_view_count": null,
            "flex_flow": null,
            "width": null,
            "min_width": null,
            "border": null,
            "align_items": null,
            "bottom": null,
            "_model_module": "@jupyter-widgets/base",
            "top": null,
            "grid_column": null,
            "overflow_y": null,
            "overflow_x": null,
            "grid_auto_flow": null,
            "grid_area": null,
            "grid_template_columns": null,
            "flex": null,
            "_model_name": "LayoutModel",
            "justify_items": null,
            "grid_row": null,
            "max_height": null,
            "align_content": null,
            "visibility": null,
            "align_self": null,
            "height": null,
            "min_height": null,
            "padding": null,
            "grid_auto_rows": null,
            "grid_gap": null,
            "max_width": null,
            "order": null,
            "_view_module_version": "1.2.0",
            "grid_template_areas": null,
            "object_position": null,
            "object_fit": null,
            "grid_auto_columns": null,
            "margin": null,
            "display": null,
            "left": null
          }
        },
        "3249df2e13a24194852f1ce40b1a31c7": {
          "model_module": "@jupyter-widgets/controls",
          "model_name": "DescriptionStyleModel",
          "state": {
            "_view_name": "StyleView",
            "_model_name": "DescriptionStyleModel",
            "description_width": "",
            "_view_module": "@jupyter-widgets/base",
            "_model_module_version": "1.5.0",
            "_view_count": null,
            "_view_module_version": "1.2.0",
            "_model_module": "@jupyter-widgets/controls"
          }
        },
        "cdbaace27eb94c3884d0ef52ef19f052": {
          "model_module": "@jupyter-widgets/base",
          "model_name": "LayoutModel",
          "state": {
            "_view_name": "LayoutView",
            "grid_template_rows": null,
            "right": null,
            "justify_content": null,
            "_view_module": "@jupyter-widgets/base",
            "overflow": null,
            "_model_module_version": "1.2.0",
            "_view_count": null,
            "flex_flow": null,
            "width": null,
            "min_width": null,
            "border": null,
            "align_items": null,
            "bottom": null,
            "_model_module": "@jupyter-widgets/base",
            "top": null,
            "grid_column": null,
            "overflow_y": null,
            "overflow_x": null,
            "grid_auto_flow": null,
            "grid_area": null,
            "grid_template_columns": null,
            "flex": null,
            "_model_name": "LayoutModel",
            "justify_items": null,
            "grid_row": null,
            "max_height": null,
            "align_content": null,
            "visibility": null,
            "align_self": null,
            "height": null,
            "min_height": null,
            "padding": null,
            "grid_auto_rows": null,
            "grid_gap": null,
            "max_width": null,
            "order": null,
            "_view_module_version": "1.2.0",
            "grid_template_areas": null,
            "object_position": null,
            "object_fit": null,
            "grid_auto_columns": null,
            "margin": null,
            "display": null,
            "left": null
          }
        }
      }
    }
  },
  "cells": [
    {
      "cell_type": "code",
      "metadata": {
        "id": "wxuc6YechDZT"
      },
      "source": [
        "from IPython.display import clear_output\r\n",
        "!wget https://disk.karelia.pro/djnSMfz/Трек%201.%20Онежское%20озеро.tgz?attachment\r\n",
        "import os\r\n",
        "try:\r\n",
        "    os.mkdir(\"./data\")\r\n",
        "except: pass\r\n",
        "!tar -xvzf \"Трек 1. Онежское озеро.tgz?attachment\" -C ./data\r\n",
        "clear_output()"
      ],
      "execution_count": 1,
      "outputs": []
    },
    {
      "cell_type": "code",
      "metadata": {
        "id": "p_vaTLKJh1nO"
      },
      "source": [
        "import torch\r\n",
        "import torch.nn as nn\r\n",
        "\r\n",
        "from torch.utils.data import Dataset, DataLoader\r\n",
        "from torchvision import transforms\r\n",
        "\r\n",
        "import numpy as np\r\n",
        "\r\n",
        "import matplotlib.pyplot as plt\r\n",
        "%matplotlib inline"
      ],
      "execution_count": 2,
      "outputs": []
    },
    {
      "cell_type": "code",
      "metadata": {
        "colab": {
          "base_uri": "https://localhost:8080/"
        },
        "id": "2vU60Uc1vTsv",
        "outputId": "fe482671-0644-41fc-92cf-d6ed8b2745d9"
      },
      "source": [
        "device = torch.device('cuda' if torch.cuda.is_available() else 'cpu')\r\n",
        "print('Using device:', device)"
      ],
      "execution_count": 3,
      "outputs": [
        {
          "output_type": "stream",
          "text": [
            "Using device: cuda\n"
          ],
          "name": "stdout"
        }
      ]
    },
    {
      "cell_type": "code",
      "metadata": {
        "id": "s0qe_u2okI2U"
      },
      "source": [
        "# переводим дату в числа\r\n",
        "def date_to_data(frame, holidays=None,\r\n",
        "                 drop=False, name=\"date\", suffix=\"\"):\r\n",
        "    assert name in frame, \"Нужна колонка с датой\"\r\n",
        "    date = frame[name].dt\r\n",
        "\r\n",
        "    info = pd.concat([date.days_in_month,\r\n",
        "                     date.month,\r\n",
        "                     date.quarter,\r\n",
        "                     date.month % 12 // 3 + 1,\r\n",
        "                     date.hour], axis=1)\r\n",
        "    \r\n",
        "    info.columns = [\"days_in_month\", \"month\",\r\n",
        "                    \"quarter\", \"season\", \"hour\"]\r\n",
        "\r\n",
        "    temp = pd.concat([date.isocalendar(),\r\n",
        "                      info], axis=1)\r\n",
        "\r\n",
        "    temp.columns = temp.columns + suffix\r\n",
        "    frame = pd.concat([frame, temp], axis=1)\r\n",
        "    if drop:\r\n",
        "        return frame.drop([name], axis=1)\r\n",
        "    return frame"
      ],
      "execution_count": 4,
      "outputs": []
    },
    {
      "cell_type": "code",
      "metadata": {
        "id": "gfymiptAkLhO"
      },
      "source": [
        "import pandas as pd\r\n",
        "import os\r\n",
        "\r\n",
        "df = pd.DataFrame(os.listdir(\"./data\"), columns=[\"name\"])\r\n",
        "df[\"time_parsed\"] = pd.to_datetime(df[\"name\"].apply(lambda x: x[:-4]))\r\n",
        "df = df.sort_values(by=\"time_parsed\")\r\n",
        "df = date_to_data(df, name=\"time_parsed\")\r\n",
        "df[\"date\"] = df[\"time_parsed\"].dt.date"
      ],
      "execution_count": 5,
      "outputs": []
    },
    {
      "cell_type": "code",
      "metadata": {
        "id": "xz4pcFX-kONZ"
      },
      "source": [
        "# df[\"y\"] = 0\r\n",
        "# df.loc[df.month.isin([1, 2]), \"y\"] = 1\r\n",
        "# df.loc[(df.month == 12) & (df.day >= 5), \"y\"] = 1\r\n",
        "# df.loc[(df.month == 3) & (df.day <= 10), \"y\"] = 1"
      ],
      "execution_count": 6,
      "outputs": []
    },
    {
      "cell_type": "code",
      "metadata": {
        "id": "tHEcddiZppho"
      },
      "source": [
        "from datetime import datetime\r\n",
        "\r\n",
        "def compare(date):\r\n",
        "    d = datetime(date.year, date.month, date.day, date.hour)\r\n",
        "    if d < datetime(2016, 4, 17, 10):\r\n",
        "        return 1\r\n",
        "    if d > datetime(2016, 12, 28, 4) and d < datetime(2017, 4, 28, 8):\r\n",
        "        return 1\r\n",
        "    if d > datetime(2018, 1, 10, 6) and d < datetime(2018, 5, 3, 12):\r\n",
        "        return 1\r\n",
        "    if d > datetime(2018, 12, 18, 6) and d < datetime(2019, 4, 23,10):\r\n",
        "        return 1\r\n",
        "    if d > datetime(2020, 1, 30, 10) and d < datetime(2020, 3, 13, 18):\r\n",
        "        return 1\r\n",
        "    if d > datetime(2021, 1, 4, 14):\r\n",
        "        return 1\r\n",
        "    return 0"
      ],
      "execution_count": 7,
      "outputs": []
    },
    {
      "cell_type": "code",
      "metadata": {
        "id": "eroyn2LG7MPD"
      },
      "source": [
        "df[\"y\"] = df[\"time_parsed\"].apply(lambda x: compare(x))"
      ],
      "execution_count": 8,
      "outputs": []
    },
    {
      "cell_type": "code",
      "metadata": {
        "colab": {
          "base_uri": "https://localhost:8080/",
          "height": 191
        },
        "id": "4BpMkuH0zGc0",
        "outputId": "9e4d221e-5f43-4cf3-dce0-4cf94772fac3"
      },
      "source": [
        "df.head()"
      ],
      "execution_count": 9,
      "outputs": [
        {
          "output_type": "execute_result",
          "data": {
            "text/html": [
              "<div>\n",
              "<style scoped>\n",
              "    .dataframe tbody tr th:only-of-type {\n",
              "        vertical-align: middle;\n",
              "    }\n",
              "\n",
              "    .dataframe tbody tr th {\n",
              "        vertical-align: top;\n",
              "    }\n",
              "\n",
              "    .dataframe thead th {\n",
              "        text-align: right;\n",
              "    }\n",
              "</style>\n",
              "<table border=\"1\" class=\"dataframe\">\n",
              "  <thead>\n",
              "    <tr style=\"text-align: right;\">\n",
              "      <th></th>\n",
              "      <th>name</th>\n",
              "      <th>time_parsed</th>\n",
              "      <th>year</th>\n",
              "      <th>week</th>\n",
              "      <th>day</th>\n",
              "      <th>days_in_month</th>\n",
              "      <th>month</th>\n",
              "      <th>quarter</th>\n",
              "      <th>season</th>\n",
              "      <th>hour</th>\n",
              "      <th>date</th>\n",
              "      <th>y</th>\n",
              "    </tr>\n",
              "  </thead>\n",
              "  <tbody>\n",
              "    <tr>\n",
              "      <th>5297</th>\n",
              "      <td>201603010000.jpg</td>\n",
              "      <td>2016-03-01 00:00:00</td>\n",
              "      <td>2016</td>\n",
              "      <td>9</td>\n",
              "      <td>2</td>\n",
              "      <td>31</td>\n",
              "      <td>3</td>\n",
              "      <td>1</td>\n",
              "      <td>2</td>\n",
              "      <td>0</td>\n",
              "      <td>2016-03-01</td>\n",
              "      <td>1</td>\n",
              "    </tr>\n",
              "    <tr>\n",
              "      <th>17809</th>\n",
              "      <td>201603010200.jpg</td>\n",
              "      <td>2016-03-01 02:00:00</td>\n",
              "      <td>2016</td>\n",
              "      <td>9</td>\n",
              "      <td>2</td>\n",
              "      <td>31</td>\n",
              "      <td>3</td>\n",
              "      <td>1</td>\n",
              "      <td>2</td>\n",
              "      <td>2</td>\n",
              "      <td>2016-03-01</td>\n",
              "      <td>1</td>\n",
              "    </tr>\n",
              "    <tr>\n",
              "      <th>12889</th>\n",
              "      <td>201603010600.jpg</td>\n",
              "      <td>2016-03-01 06:00:00</td>\n",
              "      <td>2016</td>\n",
              "      <td>9</td>\n",
              "      <td>2</td>\n",
              "      <td>31</td>\n",
              "      <td>3</td>\n",
              "      <td>1</td>\n",
              "      <td>2</td>\n",
              "      <td>6</td>\n",
              "      <td>2016-03-01</td>\n",
              "      <td>1</td>\n",
              "    </tr>\n",
              "    <tr>\n",
              "      <th>366</th>\n",
              "      <td>201603010800.jpg</td>\n",
              "      <td>2016-03-01 08:00:00</td>\n",
              "      <td>2016</td>\n",
              "      <td>9</td>\n",
              "      <td>2</td>\n",
              "      <td>31</td>\n",
              "      <td>3</td>\n",
              "      <td>1</td>\n",
              "      <td>2</td>\n",
              "      <td>8</td>\n",
              "      <td>2016-03-01</td>\n",
              "      <td>1</td>\n",
              "    </tr>\n",
              "    <tr>\n",
              "      <th>9593</th>\n",
              "      <td>201603011000.jpg</td>\n",
              "      <td>2016-03-01 10:00:00</td>\n",
              "      <td>2016</td>\n",
              "      <td>9</td>\n",
              "      <td>2</td>\n",
              "      <td>31</td>\n",
              "      <td>3</td>\n",
              "      <td>1</td>\n",
              "      <td>2</td>\n",
              "      <td>10</td>\n",
              "      <td>2016-03-01</td>\n",
              "      <td>1</td>\n",
              "    </tr>\n",
              "  </tbody>\n",
              "</table>\n",
              "</div>"
            ],
            "text/plain": [
              "                   name         time_parsed  year  ...  hour        date  y\n",
              "5297   201603010000.jpg 2016-03-01 00:00:00  2016  ...     0  2016-03-01  1\n",
              "17809  201603010200.jpg 2016-03-01 02:00:00  2016  ...     2  2016-03-01  1\n",
              "12889  201603010600.jpg 2016-03-01 06:00:00  2016  ...     6  2016-03-01  1\n",
              "366    201603010800.jpg 2016-03-01 08:00:00  2016  ...     8  2016-03-01  1\n",
              "9593   201603011000.jpg 2016-03-01 10:00:00  2016  ...    10  2016-03-01  1\n",
              "\n",
              "[5 rows x 12 columns]"
            ]
          },
          "metadata": {
            "tags": []
          },
          "execution_count": 9
        }
      ]
    },
    {
      "cell_type": "code",
      "metadata": {
        "id": "-ivT-9jHhaDo"
      },
      "source": [
        "import os\r\n",
        "from tqdm.notebook import tqdm\r\n",
        "from PIL import Image\r\n",
        "\r\n",
        "class LakeDataset(Dataset):\r\n",
        "    def __init__(self, path, df, transform, size=(600, 600)):\r\n",
        "        self.transform = transform\r\n",
        "      \r\n",
        "        filenames = []\r\n",
        "        for name, y in df.values:\r\n",
        "            filenames.append([os.path.join(path, name),\r\n",
        "                              torch.tensor(y).long()])\r\n",
        "\r\n",
        "        self.images = []\r\n",
        "        for filename, y in tqdm(filenames):\r\n",
        "            try:\r\n",
        "                with Image.open(filename) as image:\r\n",
        "                    image = image.resize(size)\r\n",
        "                    self.images.append([image.copy(), y])\r\n",
        "            except:\r\n",
        "                print('Could not load image:', filename)\r\n",
        "\r\n",
        "    def __len__(self):\r\n",
        "        return len(self.images)\r\n",
        "\r\n",
        "    def __getitem__(self, idx):\r\n",
        "        img = self.images[idx]\r\n",
        "        X = self.transform(img[0])\r\n",
        "        return X, img[1]"
      ],
      "execution_count": 10,
      "outputs": []
    },
    {
      "cell_type": "code",
      "metadata": {
        "id": "LsghzEbxl8oM"
      },
      "source": [
        "# size = (128, 128)\r\n",
        "\r\n",
        "# transform_all = transforms.Compose([\r\n",
        "#     transforms.RandomResizedCrop(size[0]),\r\n",
        "#     transforms.RandomHorizontalFlip(),\r\n",
        "#     transforms.ToTensor(),\r\n",
        "#     transforms.CenterCrop(size[0]),\r\n",
        "#     transforms.RandomVerticalFlip(),\r\n",
        "#     transforms.Normalize(mean=[0.485, 0.456, 0.406],\r\n",
        "#                           std=[0.229, 0.224, 0.225])\r\n",
        "# ])"
      ],
      "execution_count": 11,
      "outputs": []
    },
    {
      "cell_type": "code",
      "metadata": {
        "id": "559PwnTXXXNs"
      },
      "source": [
        "size = (128, 128)\r\n",
        "\r\n",
        "transform_all = transforms.Compose([\r\n",
        "    transforms.ToTensor()\r\n",
        "])"
      ],
      "execution_count": 12,
      "outputs": []
    },
    {
      "cell_type": "code",
      "metadata": {
        "id": "p4grYNH3yOsd"
      },
      "source": [
        "from sklearn.model_selection import train_test_split\r\n",
        "\r\n",
        "train_df, valid_df = train_test_split(df[[\"name\", \"y\"]],\r\n",
        "                                      test_size=0.01, random_state=42)"
      ],
      "execution_count": 13,
      "outputs": []
    },
    {
      "cell_type": "code",
      "metadata": {
        "colab": {
          "base_uri": "https://localhost:8080/",
          "height": 113,
          "referenced_widgets": [
            "8801d1ef4cfa4f8fb80d50bc2a9b13ef",
            "37cef5b0ab94412fbc432bd1aebb6884",
            "626f7ed7e71448d6a7c17ae9862e5e1c",
            "27e145713aae4476a939ebe4298bf4f0",
            "6d1bc6ea05074be79185283913c4f9a3",
            "b1d9a4bcea1f4dbf8cdd10beb846c88d",
            "0fd0065d19ef4956b40c0ec9f88f7bf4",
            "7ba4aa502b5149c39c5affb43c734910",
            "445ee6b4a8984ec4b6404f70183800a1",
            "6f9d1d7e3912448b9d9777eb65941bc2",
            "f38f2a4683ab44eab71fe423ada2920e",
            "f29ae590d4c14defbbd2f34337452741",
            "1156bce8df5b4fd8b735177b13096489",
            "680958876c2c41debdbe442270cb62e5",
            "5aeb6bdc7aa847c3be27361c258d82df",
            "1b1035e98a3145f6b48d3ebf6f0599cd"
          ]
        },
        "id": "aXWy-1z7yUPs",
        "outputId": "83188a5d-50ed-4b9f-a2ed-964e57d1b3ec"
      },
      "source": [
        "train_dataset = LakeDataset(\"data\", train_df, transform_all, size=size)\r\n",
        "train_dataset = DataLoader(train_dataset, batch_size=64, shuffle=True)\r\n",
        "\r\n",
        "valid_dataset = LakeDataset(\"data\", valid_df, transform_all, size=size)\r\n",
        "valid_dataset = DataLoader(valid_dataset, batch_size=64, shuffle=True)"
      ],
      "execution_count": 14,
      "outputs": [
        {
          "output_type": "display_data",
          "data": {
            "application/vnd.jupyter.widget-view+json": {
              "model_id": "8801d1ef4cfa4f8fb80d50bc2a9b13ef",
              "version_minor": 0,
              "version_major": 2
            },
            "text/plain": [
              "HBox(children=(FloatProgress(value=0.0, max=20121.0), HTML(value='')))"
            ]
          },
          "metadata": {
            "tags": []
          }
        },
        {
          "output_type": "stream",
          "text": [
            "\n"
          ],
          "name": "stdout"
        },
        {
          "output_type": "display_data",
          "data": {
            "application/vnd.jupyter.widget-view+json": {
              "model_id": "445ee6b4a8984ec4b6404f70183800a1",
              "version_minor": 0,
              "version_major": 2
            },
            "text/plain": [
              "HBox(children=(FloatProgress(value=0.0, max=204.0), HTML(value='')))"
            ]
          },
          "metadata": {
            "tags": []
          }
        },
        {
          "output_type": "stream",
          "text": [
            "\n"
          ],
          "name": "stdout"
        }
      ]
    },
    {
      "cell_type": "code",
      "metadata": {
        "id": "peMxVvZgrCX3",
        "colab": {
          "base_uri": "https://localhost:8080/",
          "height": 81,
          "referenced_widgets": [
            "44b18cc25ed941baa0eb2b2693f23b71",
            "153e87157340452aa27a376981b43f06",
            "f4bb68ae755e48bf93b317b2811c0eef",
            "1719b545329044408c368590ec1dd7bb",
            "31e40f5bd820484e87485cce8c27f73e",
            "6b8abf7c472d4995b93604416257aa0e",
            "bc7722d0eb4b4d5483638be33bd05bb0",
            "b19f13de01924f70b8cb5a8fd72af8ef"
          ]
        },
        "outputId": "7bd88bb8-3a69-42d1-ece5-d2a64156e094"
      },
      "source": [
        "import torchvision.models as models\r\n",
        "import random\r\n",
        "import numpy as np\r\n",
        "\r\n",
        "# Сидим модель\r\n",
        "random.seed(42)\r\n",
        "np.random.seed(42)\r\n",
        "torch.manual_seed(42)\r\n",
        "torch.cuda.manual_seed(42)\r\n",
        "\r\n",
        "# Подргружаем модель\r\n",
        "model = models.resnet18(pretrained=True)\r\n",
        "model.fc = nn.Linear(512, 2)\r\n",
        "model = model.to(device)\r\n",
        "\r\n",
        "criterion = torch.nn.CrossEntropyLoss()\r\n",
        "optimizer = torch.optim.Adam(model.fc.parameters(), lr=0.001)"
      ],
      "execution_count": 15,
      "outputs": [
        {
          "output_type": "stream",
          "text": [
            "Downloading: \"https://download.pytorch.org/models/resnet18-5c106cde.pth\" to /root/.cache/torch/hub/checkpoints/resnet18-5c106cde.pth\n"
          ],
          "name": "stderr"
        },
        {
          "output_type": "display_data",
          "data": {
            "application/vnd.jupyter.widget-view+json": {
              "model_id": "44b18cc25ed941baa0eb2b2693f23b71",
              "version_minor": 0,
              "version_major": 2
            },
            "text/plain": [
              "HBox(children=(FloatProgress(value=0.0, max=46827520.0), HTML(value='')))"
            ]
          },
          "metadata": {
            "tags": []
          }
        },
        {
          "output_type": "stream",
          "text": [
            "\n"
          ],
          "name": "stdout"
        }
      ]
    },
    {
      "cell_type": "code",
      "metadata": {
        "id": "zwwsbsoMx_RJ"
      },
      "source": [
        "def accuracy(model, val):\r\n",
        "    total = 0\r\n",
        "    correct = 0\r\n",
        "    for X, y in val:\r\n",
        "        res = model(X.to(device))\r\n",
        "        res = res.argmax(dim=1)\r\n",
        "        total += res.shape[0]\r\n",
        "        correct += (res == y.to(device)).sum().item()\r\n",
        "    return correct / total"
      ],
      "execution_count": 16,
      "outputs": []
    },
    {
      "cell_type": "code",
      "metadata": {
        "id": "YtknKqjzvLpO",
        "colab": {
          "base_uri": "https://localhost:8080/",
          "height": 427,
          "referenced_widgets": [
            "1fede86e5c364085a36270d14f3d752f",
            "33355226a1774dc280f4f3dafe814a67",
            "42f1509da98c4047943146f4b3ee096d",
            "da46a6e39028434eb8569de1e6bf9b2c",
            "1a6db39dd39f459e9eacf58f4ca79d92",
            "36c35e7bb36542df899637000b4971de",
            "3249df2e13a24194852f1ce40b1a31c7",
            "cdbaace27eb94c3884d0ef52ef19f052"
          ]
        },
        "outputId": "ea94cae8-aa26-484d-c9c7-5731449eef73"
      },
      "source": [
        "train_losses = []\r\n",
        "num_epochs = 7\r\n",
        "\r\n",
        "for epoch in tqdm(range(num_epochs)):\r\n",
        "    model.train()\r\n",
        "    for X, y in train_dataset:\r\n",
        "        optimizer.zero_grad()\r\n",
        "        output = model(X.to(device))\r\n",
        "        loss = criterion(output, y.to(device))\r\n",
        "        loss.backward()\r\n",
        "        train_losses.append(loss.item())\r\n",
        "        optimizer.step()\r\n",
        "    model.eval()\r\n",
        "    val_score = accuracy(model, valid_dataset)\r\n",
        "    print(f\"Iterations: {epoch + 1} Score: {val_score}\")\r\n",
        "\r\n",
        "plt.plot(train_losses)\r\n",
        "plt.show()"
      ],
      "execution_count": 17,
      "outputs": [
        {
          "output_type": "display_data",
          "data": {
            "application/vnd.jupyter.widget-view+json": {
              "model_id": "1fede86e5c364085a36270d14f3d752f",
              "version_minor": 0,
              "version_major": 2
            },
            "text/plain": [
              "HBox(children=(FloatProgress(value=0.0, max=7.0), HTML(value='')))"
            ]
          },
          "metadata": {
            "tags": []
          }
        },
        {
          "output_type": "stream",
          "text": [
            "Iterations: 1 Score: 0.8627450980392157\n",
            "Iterations: 2 Score: 0.8529411764705882\n",
            "Iterations: 3 Score: 0.8921568627450981\n",
            "Iterations: 4 Score: 0.8921568627450981\n",
            "Iterations: 5 Score: 0.8872549019607843\n",
            "Iterations: 6 Score: 0.8823529411764706\n",
            "Iterations: 7 Score: 0.9019607843137255\n",
            "\n"
          ],
          "name": "stdout"
        },
        {
          "output_type": "display_data",
          "data": {
            "image/png": "[encoded data removed]",
            "text/plain": [
              "<Figure size 432x288 with 1 Axes>"
            ]
          },
          "metadata": {
            "tags": [],
            "needs_background": "light"
          }
        }
      ]
    },
    {
      "cell_type": "code",
      "metadata": {
        "colab": {
          "base_uri": "https://localhost:8080/"
        },
        "id": "IRu8verT17yU",
        "outputId": "23f6d35b-2b37-4c09-ba18-2019d9258da7"
      },
      "source": [
        "model.eval()\r\n",
        "accuracy(model, valid_dataset)"
      ],
      "execution_count": 20,
      "outputs": [
        {
          "output_type": "execute_result",
          "data": {
            "text/plain": [
              "0.9019607843137255"
            ]
          },
          "metadata": {
            "tags": []
          },
          "execution_count": 20
        }
      ]
    },
    {
      "cell_type": "code",
      "metadata": {
        "id": "-DrPe0k5_bdI"
      },
      "source": [
        "torch.save(model, \"network.pth\")"
      ],
      "execution_count": 19,
      "outputs": []
    }
  ]
}