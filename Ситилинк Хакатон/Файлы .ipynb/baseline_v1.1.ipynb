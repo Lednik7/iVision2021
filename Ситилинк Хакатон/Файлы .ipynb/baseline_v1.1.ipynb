{
  "nbformat": 4,
  "nbformat_minor": 0,
  "metadata": {
    "colab": {
      "name": "baseline.ipynb",
      "provenance": []
    },
    "kernelspec": {
      "name": "python3",
      "display_name": "Python 3"
    },
    "accelerator": "GPU",
    "widgets": {
      "application/vnd.jupyter.widget-state+json": {
        "afaf998a319943cfbdc11749bac2bda5": {
          "model_module": "@jupyter-widgets/controls",
          "model_name": "HBoxModel",
          "state": {
            "_view_name": "HBoxView",
            "_dom_classes": [],
            "_model_name": "HBoxModel",
            "_view_module": "@jupyter-widgets/controls",
            "_model_module_version": "1.5.0",
            "_view_count": null,
            "_view_module_version": "1.5.0",
            "box_style": "",
            "layout": "IPY_MODEL_84c47954dddb43f590b486f385c2066d",
            "_model_module": "@jupyter-widgets/controls",
            "children": [
              "IPY_MODEL_b58c9eeb698c4f5db931917e41a2c9fa",
              "IPY_MODEL_39d2cc37e479456da554181860a60883"
            ]
          }
        },
        "84c47954dddb43f590b486f385c2066d": {
          "model_module": "@jupyter-widgets/base",
          "model_name": "LayoutModel",
          "state": {
            "_view_name": "LayoutView",
            "grid_template_rows": null,
            "right": null,
            "justify_content": null,
            "_view_module": "@jupyter-widgets/base",
            "overflow": null,
            "_model_module_version": "1.2.0",
            "_view_count": null,
            "flex_flow": null,
            "width": null,
            "min_width": null,
            "border": null,
            "align_items": null,
            "bottom": null,
            "_model_module": "@jupyter-widgets/base",
            "top": null,
            "grid_column": null,
            "overflow_y": null,
            "overflow_x": null,
            "grid_auto_flow": null,
            "grid_area": null,
            "grid_template_columns": null,
            "flex": null,
            "_model_name": "LayoutModel",
            "justify_items": null,
            "grid_row": null,
            "max_height": null,
            "align_content": null,
            "visibility": null,
            "align_self": null,
            "height": null,
            "min_height": null,
            "padding": null,
            "grid_auto_rows": null,
            "grid_gap": null,
            "max_width": null,
            "order": null,
            "_view_module_version": "1.2.0",
            "grid_template_areas": null,
            "object_position": null,
            "object_fit": null,
            "grid_auto_columns": null,
            "margin": null,
            "display": null,
            "left": null
          }
        },
        "b58c9eeb698c4f5db931917e41a2c9fa": {
          "model_module": "@jupyter-widgets/controls",
          "model_name": "FloatProgressModel",
          "state": {
            "_view_name": "ProgressView",
            "style": "IPY_MODEL_41d18d435a8842929126f330b01ee815",
            "_dom_classes": [],
            "description": "100%",
            "_model_name": "FloatProgressModel",
            "bar_style": "success",
            "max": 10,
            "_view_module": "@jupyter-widgets/controls",
            "_model_module_version": "1.5.0",
            "value": 10,
            "_view_count": null,
            "_view_module_version": "1.5.0",
            "orientation": "horizontal",
            "min": 0,
            "description_tooltip": null,
            "_model_module": "@jupyter-widgets/controls",
            "layout": "IPY_MODEL_2f15842eb7a34847a7df367634214c60"
          }
        },
        "39d2cc37e479456da554181860a60883": {
          "model_module": "@jupyter-widgets/controls",
          "model_name": "HTMLModel",
          "state": {
            "_view_name": "HTMLView",
            "style": "IPY_MODEL_bc8d0a55edf246a890072e34dedb463f",
            "_dom_classes": [],
            "description": "",
            "_model_name": "HTMLModel",
            "placeholder": "​",
            "_view_module": "@jupyter-widgets/controls",
            "_model_module_version": "1.5.0",
            "value": " 10/10 [00:06&lt;00:00,  1.44it/s]",
            "_view_count": null,
            "_view_module_version": "1.5.0",
            "description_tooltip": null,
            "_model_module": "@jupyter-widgets/controls",
            "layout": "IPY_MODEL_e87daf2e579d4283a9c1f0c5a14039da"
          }
        },
        "41d18d435a8842929126f330b01ee815": {
          "model_module": "@jupyter-widgets/controls",
          "model_name": "ProgressStyleModel",
          "state": {
            "_view_name": "StyleView",
            "_model_name": "ProgressStyleModel",
            "description_width": "initial",
            "_view_module": "@jupyter-widgets/base",
            "_model_module_version": "1.5.0",
            "_view_count": null,
            "_view_module_version": "1.2.0",
            "bar_color": null,
            "_model_module": "@jupyter-widgets/controls"
          }
        },
        "2f15842eb7a34847a7df367634214c60": {
          "model_module": "@jupyter-widgets/base",
          "model_name": "LayoutModel",
          "state": {
            "_view_name": "LayoutView",
            "grid_template_rows": null,
            "right": null,
            "justify_content": null,
            "_view_module": "@jupyter-widgets/base",
            "overflow": null,
            "_model_module_version": "1.2.0",
            "_view_count": null,
            "flex_flow": null,
            "width": null,
            "min_width": null,
            "border": null,
            "align_items": null,
            "bottom": null,
            "_model_module": "@jupyter-widgets/base",
            "top": null,
            "grid_column": null,
            "overflow_y": null,
            "overflow_x": null,
            "grid_auto_flow": null,
            "grid_area": null,
            "grid_template_columns": null,
            "flex": null,
            "_model_name": "LayoutModel",
            "justify_items": null,
            "grid_row": null,
            "max_height": null,
            "align_content": null,
            "visibility": null,
            "align_self": null,
            "height": null,
            "min_height": null,
            "padding": null,
            "grid_auto_rows": null,
            "grid_gap": null,
            "max_width": null,
            "order": null,
            "_view_module_version": "1.2.0",
            "grid_template_areas": null,
            "object_position": null,
            "object_fit": null,
            "grid_auto_columns": null,
            "margin": null,
            "display": null,
            "left": null
          }
        },
        "bc8d0a55edf246a890072e34dedb463f": {
          "model_module": "@jupyter-widgets/controls",
          "model_name": "DescriptionStyleModel",
          "state": {
            "_view_name": "StyleView",
            "_model_name": "DescriptionStyleModel",
            "description_width": "",
            "_view_module": "@jupyter-widgets/base",
            "_model_module_version": "1.5.0",
            "_view_count": null,
            "_view_module_version": "1.2.0",
            "_model_module": "@jupyter-widgets/controls"
          }
        },
        "e87daf2e579d4283a9c1f0c5a14039da": {
          "model_module": "@jupyter-widgets/base",
          "model_name": "LayoutModel",
          "state": {
            "_view_name": "LayoutView",
            "grid_template_rows": null,
            "right": null,
            "justify_content": null,
            "_view_module": "@jupyter-widgets/base",
            "overflow": null,
            "_model_module_version": "1.2.0",
            "_view_count": null,
            "flex_flow": null,
            "width": null,
            "min_width": null,
            "border": null,
            "align_items": null,
            "bottom": null,
            "_model_module": "@jupyter-widgets/base",
            "top": null,
            "grid_column": null,
            "overflow_y": null,
            "overflow_x": null,
            "grid_auto_flow": null,
            "grid_area": null,
            "grid_template_columns": null,
            "flex": null,
            "_model_name": "LayoutModel",
            "justify_items": null,
            "grid_row": null,
            "max_height": null,
            "align_content": null,
            "visibility": null,
            "align_self": null,
            "height": null,
            "min_height": null,
            "padding": null,
            "grid_auto_rows": null,
            "grid_gap": null,
            "max_width": null,
            "order": null,
            "_view_module_version": "1.2.0",
            "grid_template_areas": null,
            "object_position": null,
            "object_fit": null,
            "grid_auto_columns": null,
            "margin": null,
            "display": null,
            "left": null
          }
        },
        "9610036ea2504518b1d59a2a0949660a": {
          "model_module": "@jupyter-widgets/controls",
          "model_name": "HBoxModel",
          "state": {
            "_view_name": "HBoxView",
            "_dom_classes": [],
            "_model_name": "HBoxModel",
            "_view_module": "@jupyter-widgets/controls",
            "_model_module_version": "1.5.0",
            "_view_count": null,
            "_view_module_version": "1.5.0",
            "box_style": "",
            "layout": "IPY_MODEL_f44d9cf222c3428a9328f6b0856bc110",
            "_model_module": "@jupyter-widgets/controls",
            "children": [
              "IPY_MODEL_f26e8eb7f1a349f0b51fd7c5d9df3e3b",
              "IPY_MODEL_b0e14e76c92d453ea01647c722c204da"
            ]
          }
        },
        "f44d9cf222c3428a9328f6b0856bc110": {
          "model_module": "@jupyter-widgets/base",
          "model_name": "LayoutModel",
          "state": {
            "_view_name": "LayoutView",
            "grid_template_rows": null,
            "right": null,
            "justify_content": null,
            "_view_module": "@jupyter-widgets/base",
            "overflow": null,
            "_model_module_version": "1.2.0",
            "_view_count": null,
            "flex_flow": null,
            "width": null,
            "min_width": null,
            "border": null,
            "align_items": null,
            "bottom": null,
            "_model_module": "@jupyter-widgets/base",
            "top": null,
            "grid_column": null,
            "overflow_y": null,
            "overflow_x": null,
            "grid_auto_flow": null,
            "grid_area": null,
            "grid_template_columns": null,
            "flex": null,
            "_model_name": "LayoutModel",
            "justify_items": null,
            "grid_row": null,
            "max_height": null,
            "align_content": null,
            "visibility": null,
            "align_self": null,
            "height": null,
            "min_height": null,
            "padding": null,
            "grid_auto_rows": null,
            "grid_gap": null,
            "max_width": null,
            "order": null,
            "_view_module_version": "1.2.0",
            "grid_template_areas": null,
            "object_position": null,
            "object_fit": null,
            "grid_auto_columns": null,
            "margin": null,
            "display": null,
            "left": null
          }
        },
        "f26e8eb7f1a349f0b51fd7c5d9df3e3b": {
          "model_module": "@jupyter-widgets/controls",
          "model_name": "FloatProgressModel",
          "state": {
            "_view_name": "ProgressView",
            "style": "IPY_MODEL_08e3b5ee356b46b5985e4bb0f19f2099",
            "_dom_classes": [],
            "description": "100%",
            "_model_name": "FloatProgressModel",
            "bar_style": "success",
            "max": 10,
            "_view_module": "@jupyter-widgets/controls",
            "_model_module_version": "1.5.0",
            "value": 10,
            "_view_count": null,
            "_view_module_version": "1.5.0",
            "orientation": "horizontal",
            "min": 0,
            "description_tooltip": null,
            "_model_module": "@jupyter-widgets/controls",
            "layout": "IPY_MODEL_1b70ad2bc22646a3a84501719f0da502"
          }
        },
        "b0e14e76c92d453ea01647c722c204da": {
          "model_module": "@jupyter-widgets/controls",
          "model_name": "HTMLModel",
          "state": {
            "_view_name": "HTMLView",
            "style": "IPY_MODEL_f15b7fab3a43464796d7ee0018832558",
            "_dom_classes": [],
            "description": "",
            "_model_name": "HTMLModel",
            "placeholder": "​",
            "_view_module": "@jupyter-widgets/controls",
            "_model_module_version": "1.5.0",
            "value": " 10/10 [00:00&lt;00:00, 42.45it/s]",
            "_view_count": null,
            "_view_module_version": "1.5.0",
            "description_tooltip": null,
            "_model_module": "@jupyter-widgets/controls",
            "layout": "IPY_MODEL_b295d3a7579746798d077e75cdd461db"
          }
        },
        "08e3b5ee356b46b5985e4bb0f19f2099": {
          "model_module": "@jupyter-widgets/controls",
          "model_name": "ProgressStyleModel",
          "state": {
            "_view_name": "StyleView",
            "_model_name": "ProgressStyleModel",
            "description_width": "initial",
            "_view_module": "@jupyter-widgets/base",
            "_model_module_version": "1.5.0",
            "_view_count": null,
            "_view_module_version": "1.2.0",
            "bar_color": null,
            "_model_module": "@jupyter-widgets/controls"
          }
        },
        "1b70ad2bc22646a3a84501719f0da502": {
          "model_module": "@jupyter-widgets/base",
          "model_name": "LayoutModel",
          "state": {
            "_view_name": "LayoutView",
            "grid_template_rows": null,
            "right": null,
            "justify_content": null,
            "_view_module": "@jupyter-widgets/base",
            "overflow": null,
            "_model_module_version": "1.2.0",
            "_view_count": null,
            "flex_flow": null,
            "width": null,
            "min_width": null,
            "border": null,
            "align_items": null,
            "bottom": null,
            "_model_module": "@jupyter-widgets/base",
            "top": null,
            "grid_column": null,
            "overflow_y": null,
            "overflow_x": null,
            "grid_auto_flow": null,
            "grid_area": null,
            "grid_template_columns": null,
            "flex": null,
            "_model_name": "LayoutModel",
            "justify_items": null,
            "grid_row": null,
            "max_height": null,
            "align_content": null,
            "visibility": null,
            "align_self": null,
            "height": null,
            "min_height": null,
            "padding": null,
            "grid_auto_rows": null,
            "grid_gap": null,
            "max_width": null,
            "order": null,
            "_view_module_version": "1.2.0",
            "grid_template_areas": null,
            "object_position": null,
            "object_fit": null,
            "grid_auto_columns": null,
            "margin": null,
            "display": null,
            "left": null
          }
        },
        "f15b7fab3a43464796d7ee0018832558": {
          "model_module": "@jupyter-widgets/controls",
          "model_name": "DescriptionStyleModel",
          "state": {
            "_view_name": "StyleView",
            "_model_name": "DescriptionStyleModel",
            "description_width": "",
            "_view_module": "@jupyter-widgets/base",
            "_model_module_version": "1.5.0",
            "_view_count": null,
            "_view_module_version": "1.2.0",
            "_model_module": "@jupyter-widgets/controls"
          }
        },
        "b295d3a7579746798d077e75cdd461db": {
          "model_module": "@jupyter-widgets/base",
          "model_name": "LayoutModel",
          "state": {
            "_view_name": "LayoutView",
            "grid_template_rows": null,
            "right": null,
            "justify_content": null,
            "_view_module": "@jupyter-widgets/base",
            "overflow": null,
            "_model_module_version": "1.2.0",
            "_view_count": null,
            "flex_flow": null,
            "width": null,
            "min_width": null,
            "border": null,
            "align_items": null,
            "bottom": null,
            "_model_module": "@jupyter-widgets/base",
            "top": null,
            "grid_column": null,
            "overflow_y": null,
            "overflow_x": null,
            "grid_auto_flow": null,
            "grid_area": null,
            "grid_template_columns": null,
            "flex": null,
            "_model_name": "LayoutModel",
            "justify_items": null,
            "grid_row": null,
            "max_height": null,
            "align_content": null,
            "visibility": null,
            "align_self": null,
            "height": null,
            "min_height": null,
            "padding": null,
            "grid_auto_rows": null,
            "grid_gap": null,
            "max_width": null,
            "order": null,
            "_view_module_version": "1.2.0",
            "grid_template_areas": null,
            "object_position": null,
            "object_fit": null,
            "grid_auto_columns": null,
            "margin": null,
            "display": null,
            "left": null
          }
        }
      }
    }
  },
  "cells": [
    {
      "cell_type": "code",
      "metadata": {
        "colab": {
          "base_uri": "https://localhost:8080/"
        },
        "id": "nMagnz9nqtF3",
        "outputId": "8eb2492b-ab68-4114-e1a0-4ae3e2378eb6"
      },
      "source": [
        "from google.colab import drive\r\n",
        "drive.mount('/content/drive')\r\n",
        "!pip install catboost"
      ],
      "execution_count": 1,
      "outputs": [
        {
          "output_type": "stream",
          "text": [
            "Mounted at /content/drive\n",
            "Collecting catboost\n",
            "\u001b[?25l  Downloading https://files.pythonhosted.org/packages/96/3b/bb419654adcf7efff42ed8a3f84e50c8f236424b7ed1cc8ccd290852e003/catboost-0.24.4-cp37-none-manylinux1_x86_64.whl (65.7MB)\n",
            "\u001b[K     |████████████████████████████████| 65.7MB 42kB/s \n",
            "\u001b[?25hRequirement already satisfied: six in /usr/local/lib/python3.7/dist-packages (from catboost) (1.15.0)\n",
            "Requirement already satisfied: matplotlib in /usr/local/lib/python3.7/dist-packages (from catboost) (3.2.2)\n",
            "Requirement already satisfied: plotly in /usr/local/lib/python3.7/dist-packages (from catboost) (4.4.1)\n",
            "Requirement already satisfied: numpy>=1.16.0 in /usr/local/lib/python3.7/dist-packages (from catboost) (1.19.5)\n",
            "Requirement already satisfied: graphviz in /usr/local/lib/python3.7/dist-packages (from catboost) (0.10.1)\n",
            "Requirement already satisfied: pandas>=0.24.0 in /usr/local/lib/python3.7/dist-packages (from catboost) (1.1.5)\n",
            "Requirement already satisfied: scipy in /usr/local/lib/python3.7/dist-packages (from catboost) (1.4.1)\n",
            "Requirement already satisfied: pyparsing!=2.0.4,!=2.1.2,!=2.1.6,>=2.0.1 in /usr/local/lib/python3.7/dist-packages (from matplotlib->catboost) (2.4.7)\n",
            "Requirement already satisfied: python-dateutil>=2.1 in /usr/local/lib/python3.7/dist-packages (from matplotlib->catboost) (2.8.1)\n",
            "Requirement already satisfied: cycler>=0.10 in /usr/local/lib/python3.7/dist-packages (from matplotlib->catboost) (0.10.0)\n",
            "Requirement already satisfied: kiwisolver>=1.0.1 in /usr/local/lib/python3.7/dist-packages (from matplotlib->catboost) (1.3.1)\n",
            "Requirement already satisfied: retrying>=1.3.3 in /usr/local/lib/python3.7/dist-packages (from plotly->catboost) (1.3.3)\n",
            "Requirement already satisfied: pytz>=2017.2 in /usr/local/lib/python3.7/dist-packages (from pandas>=0.24.0->catboost) (2018.9)\n",
            "Installing collected packages: catboost\n",
            "Successfully installed catboost-0.24.4\n"
          ],
          "name": "stdout"
        }
      ]
    },
    {
      "cell_type": "code",
      "metadata": {
        "id": "PqQZDm8dqxLi"
      },
      "source": [
        "path = \"./drive/My Drive/Ситилинк Хакатон/\""
      ],
      "execution_count": 2,
      "outputs": []
    },
    {
      "cell_type": "code",
      "metadata": {
        "id": "_Ci79nWfOdGz"
      },
      "source": [
        "import os\r\n",
        "from torchvision import transforms\r\n",
        "import pickle\r\n",
        "import pandas as pd\r\n",
        "import torch\r\n",
        "from tqdm.notebook import tqdm\r\n",
        "from PIL import Image\r\n",
        "import numpy as np\r\n",
        "import datetime\r\n",
        "\r\n",
        "# использует GPU при наличии\r\n",
        "class LakeModel():\r\n",
        "    def __init__(self, models_path):\r\n",
        "        self.device = torch.device('cuda' if \r\n",
        "                                   torch.cuda.is_available() else 'cpu')\r\n",
        "        self.network = torch.load(os.path.join(models_path, \"network.pth\"))\r\n",
        "        self.network = self.network.to(self.device)\r\n",
        "        self.network.eval()\r\n",
        "        with open(os.path.join(models_path, \"ModernClassifier.pkl\"), \"rb\") as f:\r\n",
        "            self.classifier = pickle.load(f)\r\n",
        "        with open(os.path.join(path, \"ModernRegressor.pkl\"), \"rb\") as f:\r\n",
        "            self.regressor = pickle.load(f)\r\n",
        "        self.transform = transforms.ToTensor()\r\n",
        "        self.size = (128, 128)\r\n",
        "        self.columns = ['hour', 'year', 'week', 'day',\r\n",
        "                        'days_in_month', 'month', 'quarter', 'season',\r\n",
        "                        'prediction']\r\n",
        "        self.df = None\r\n",
        "\r\n",
        " \r\n",
        "    def date_to_data(self, frame, name=\"date\", suffix=\"\"):\r\n",
        "        assert name in frame, \"Нужна колонка с датой\"\r\n",
        "        date = frame[name].dt\r\n",
        "        info = pd.concat([date.days_in_month,\r\n",
        "                        date.month,\r\n",
        "                        date.quarter,\r\n",
        "                        date.month % 12 // 3 + 1,\r\n",
        "                        date.hour], axis=1)\r\n",
        "        info.columns = [\"days_in_month\", \"month\",\r\n",
        "                        \"quarter\", \"season\", \"hour\"]\r\n",
        "        temp = pd.concat([date.isocalendar(),\r\n",
        "                        info], axis=1)\r\n",
        "        temp.columns = temp.columns + suffix\r\n",
        "        frame = pd.concat([frame, temp], axis=1)\r\n",
        "        return frame\r\n",
        "    \r\n",
        "    def predict_network(self, path):\r\n",
        "        predictions = []\r\n",
        "        for filename in tqdm(os.listdir(path)):\r\n",
        "            with Image.open(os.path.join(path, filename)) as image:\r\n",
        "                image = image.resize(self.size)\r\n",
        "            X = self.transform(image)\r\n",
        "            X = X.view(1, *X.size()).to(self.device)\r\n",
        "            prediction = self.network(X).argmax(dim=1).item()\r\n",
        "            predictions.append([filename, prediction])\r\n",
        "        return predictions\r\n",
        "    \r\n",
        "    def check_anomaly(self, output):\r\n",
        "        arr = []\r\n",
        "        for name, value in output:\r\n",
        "            if pd.to_datetime(name[:-4]).month in [6, 7, 8]:\r\n",
        "                arr.append([name, 0])\r\n",
        "            else:\r\n",
        "                arr.append([name, value])\r\n",
        "        return arr\r\n",
        "\r\n",
        "    def prepare(self, path):\r\n",
        "        df = pd.DataFrame(os.listdir(path), columns=[\"name\"])\r\n",
        "        df[\"time_parsed\"] = pd.to_datetime(df[\"name\"].apply(lambda x: x[:-4]))\r\n",
        "        df = self.date_to_data(df, name=\"time_parsed\")\r\n",
        "\r\n",
        "        predictions = self.predict_network(path)\r\n",
        "        predictions_df = pd.DataFrame(predictions,\r\n",
        "                                      columns=[\"filename\", \"prediction\"])\r\n",
        "        df = df.merge(predictions_df, left_on=\"name\", right_on=\"filename\")\r\n",
        "  \r\n",
        "        self.df = df\r\n",
        "    \r\n",
        "    def predict_classification(self, path):\r\n",
        "        self.prepare(path)\r\n",
        "        output = zip(self.df[\"name\"], self.classifier.predict(self.df[self.columns]\\\r\n",
        "                                                         .astype(np.float32)))\r\n",
        "        return pd.DataFrame(self.check_anomaly(output),\r\n",
        "                            columns=[\"filename\", \"prediction\"])\r\n",
        "    \r\n",
        "    def predict_regreassion(self, path):\r\n",
        "        self.prepare(path)\r\n",
        "        output = zip(self.df[\"name\"], self.regressor.predict(self.df[self.columns]\\\r\n",
        "                                                             .astype(np.float32)))\r\n",
        "        \r\n",
        "        output = pd.DataFrame(output, columns=[\"filename\", \"prediction\"])\r\n",
        "        output[output[\"prediction\"] < 0] = 0\r\n",
        "        output[\"prediction\"] = np.round(output[\"prediction\"], 2)\r\n",
        "        output[\"time\"] = pd.to_datetime(output[\"filename\"].apply(lambda x: x[:-4]))\r\n",
        "        output[\"delta\"] = output[\"prediction\"].apply(lambda x: datetime.timedelta(hours=x))\r\n",
        "        output[\"prediction\"] = output[\"time\"].dt.to_pydatetime() + output[\"delta\"]\r\n",
        "        \r\n",
        "        return output[[\"filename\", \"prediction\"]]"
      ],
      "execution_count": 52,
      "outputs": []
    },
    {
      "cell_type": "code",
      "metadata": {
        "id": "VhrH9EPOPkzv"
      },
      "source": [
        "model = LakeModel(path) # путь к моделям"
      ],
      "execution_count": 53,
      "outputs": []
    },
    {
      "cell_type": "markdown",
      "metadata": {
        "id": "grdDpX6pt4r5"
      },
      "source": [
        "# Предсказываем установился лед на озере или нет"
      ]
    },
    {
      "cell_type": "code",
      "metadata": {
        "colab": {
          "base_uri": "https://localhost:8080/",
          "height": 65,
          "referenced_widgets": [
            "afaf998a319943cfbdc11749bac2bda5",
            "84c47954dddb43f590b486f385c2066d",
            "b58c9eeb698c4f5db931917e41a2c9fa",
            "39d2cc37e479456da554181860a60883",
            "41d18d435a8842929126f330b01ee815",
            "2f15842eb7a34847a7df367634214c60",
            "bc8d0a55edf246a890072e34dedb463f",
            "e87daf2e579d4283a9c1f0c5a14039da"
          ]
        },
        "id": "KqxE9tDDr7LC",
        "outputId": "cacbb50c-bcd6-4112-867a-1fa0127043a4"
      },
      "source": [
        "predictions = model.predict_classification(os.path.join(path, \"random\")) # путь к папке с фото"
      ],
      "execution_count": 34,
      "outputs": [
        {
          "output_type": "display_data",
          "data": {
            "application/vnd.jupyter.widget-view+json": {
              "model_id": "afaf998a319943cfbdc11749bac2bda5",
              "version_minor": 0,
              "version_major": 2
            },
            "text/plain": [
              "HBox(children=(FloatProgress(value=0.0, max=10.0), HTML(value='')))"
            ]
          },
          "metadata": {
            "tags": []
          }
        },
        {
          "output_type": "stream",
          "text": [
            "\n"
          ],
          "name": "stdout"
        }
      ]
    },
    {
      "cell_type": "code",
      "metadata": {
        "colab": {
          "base_uri": "https://localhost:8080/",
          "height": 335
        },
        "id": "EqXUYHG4tVP5",
        "outputId": "feb3ced0-e82f-4c95-bb87-a9102261c67d"
      },
      "source": [
        "predictions"
      ],
      "execution_count": 17,
      "outputs": [
        {
          "output_type": "execute_result",
          "data": {
            "text/html": [
              "<div>\n",
              "<style scoped>\n",
              "    .dataframe tbody tr th:only-of-type {\n",
              "        vertical-align: middle;\n",
              "    }\n",
              "\n",
              "    .dataframe tbody tr th {\n",
              "        vertical-align: top;\n",
              "    }\n",
              "\n",
              "    .dataframe thead th {\n",
              "        text-align: right;\n",
              "    }\n",
              "</style>\n",
              "<table border=\"1\" class=\"dataframe\">\n",
              "  <thead>\n",
              "    <tr style=\"text-align: right;\">\n",
              "      <th></th>\n",
              "      <th>filename</th>\n",
              "      <th>prediction</th>\n",
              "    </tr>\n",
              "  </thead>\n",
              "  <tbody>\n",
              "    <tr>\n",
              "      <th>0</th>\n",
              "      <td>201812180200.jpg</td>\n",
              "      <td>0</td>\n",
              "    </tr>\n",
              "    <tr>\n",
              "      <th>1</th>\n",
              "      <td>201812180000.jpg</td>\n",
              "      <td>0</td>\n",
              "    </tr>\n",
              "    <tr>\n",
              "      <th>2</th>\n",
              "      <td>201812171400.jpg</td>\n",
              "      <td>0</td>\n",
              "    </tr>\n",
              "    <tr>\n",
              "      <th>3</th>\n",
              "      <td>201812171200.jpg</td>\n",
              "      <td>0</td>\n",
              "    </tr>\n",
              "    <tr>\n",
              "      <th>4</th>\n",
              "      <td>201812172200.jpg</td>\n",
              "      <td>0</td>\n",
              "    </tr>\n",
              "    <tr>\n",
              "      <th>5</th>\n",
              "      <td>201812171600.jpg</td>\n",
              "      <td>0</td>\n",
              "    </tr>\n",
              "    <tr>\n",
              "      <th>6</th>\n",
              "      <td>201812171800.jpg</td>\n",
              "      <td>0</td>\n",
              "    </tr>\n",
              "    <tr>\n",
              "      <th>7</th>\n",
              "      <td>201812172000.jpg</td>\n",
              "      <td>0</td>\n",
              "    </tr>\n",
              "    <tr>\n",
              "      <th>8</th>\n",
              "      <td>201812180600.jpg</td>\n",
              "      <td>0</td>\n",
              "    </tr>\n",
              "    <tr>\n",
              "      <th>9</th>\n",
              "      <td>201812180400.jpg</td>\n",
              "      <td>0</td>\n",
              "    </tr>\n",
              "  </tbody>\n",
              "</table>\n",
              "</div>"
            ],
            "text/plain": [
              "           filename  prediction\n",
              "0  201812180200.jpg           0\n",
              "1  201812180000.jpg           0\n",
              "2  201812171400.jpg           0\n",
              "3  201812171200.jpg           0\n",
              "4  201812172200.jpg           0\n",
              "5  201812171600.jpg           0\n",
              "6  201812171800.jpg           0\n",
              "7  201812172000.jpg           0\n",
              "8  201812180600.jpg           0\n",
              "9  201812180400.jpg           0"
            ]
          },
          "metadata": {
            "tags": []
          },
          "execution_count": 17
        }
      ]
    },
    {
      "cell_type": "markdown",
      "metadata": {
        "id": "8xy5v--yuJGR"
      },
      "source": [
        "# Предсказываем дату и время полного замерзания Петрозаводской губы Онежского озера"
      ]
    },
    {
      "cell_type": "code",
      "metadata": {
        "colab": {
          "base_uri": "https://localhost:8080/",
          "height": 97,
          "referenced_widgets": [
            "9610036ea2504518b1d59a2a0949660a",
            "f44d9cf222c3428a9328f6b0856bc110",
            "f26e8eb7f1a349f0b51fd7c5d9df3e3b",
            "b0e14e76c92d453ea01647c722c204da",
            "08e3b5ee356b46b5985e4bb0f19f2099",
            "1b70ad2bc22646a3a84501719f0da502",
            "f15b7fab3a43464796d7ee0018832558",
            "b295d3a7579746798d077e75cdd461db"
          ]
        },
        "id": "2UQxDfcUNbFb",
        "outputId": "63c1c253-3cdc-4b24-a215-ddb5f5da74c5"
      },
      "source": [
        "predictions = model.predict_regreassion(os.path.join(path, \"random\")) # путь к папке с фото"
      ],
      "execution_count": 54,
      "outputs": [
        {
          "output_type": "display_data",
          "data": {
            "application/vnd.jupyter.widget-view+json": {
              "model_id": "9610036ea2504518b1d59a2a0949660a",
              "version_minor": 0,
              "version_major": 2
            },
            "text/plain": [
              "HBox(children=(FloatProgress(value=0.0, max=10.0), HTML(value='')))"
            ]
          },
          "metadata": {
            "tags": []
          }
        },
        {
          "output_type": "stream",
          "text": [
            "\n"
          ],
          "name": "stdout"
        },
        {
          "output_type": "stream",
          "text": [
            "/usr/local/lib/python3.7/dist-packages/pandas/core/arrays/datetimelike.py:1345: PerformanceWarning: Adding/subtracting object-dtype array to TimedeltaArray not vectorized\n",
            "  PerformanceWarning,\n"
          ],
          "name": "stderr"
        }
      ]
    },
    {
      "cell_type": "code",
      "metadata": {
        "colab": {
          "base_uri": "https://localhost:8080/",
          "height": 335
        },
        "id": "TGTtp00ENei5",
        "outputId": "14c30afd-d693-4709-c6eb-f04e6f92ea1b"
      },
      "source": [
        "predictions"
      ],
      "execution_count": 55,
      "outputs": [
        {
          "output_type": "execute_result",
          "data": {
            "text/html": [
              "<div>\n",
              "<style scoped>\n",
              "    .dataframe tbody tr th:only-of-type {\n",
              "        vertical-align: middle;\n",
              "    }\n",
              "\n",
              "    .dataframe tbody tr th {\n",
              "        vertical-align: top;\n",
              "    }\n",
              "\n",
              "    .dataframe thead th {\n",
              "        text-align: right;\n",
              "    }\n",
              "</style>\n",
              "<table border=\"1\" class=\"dataframe\">\n",
              "  <thead>\n",
              "    <tr style=\"text-align: right;\">\n",
              "      <th></th>\n",
              "      <th>filename</th>\n",
              "      <th>prediction</th>\n",
              "    </tr>\n",
              "  </thead>\n",
              "  <tbody>\n",
              "    <tr>\n",
              "      <th>0</th>\n",
              "      <td>201812180200.jpg</td>\n",
              "      <td>2018-12-19 06:10:48</td>\n",
              "    </tr>\n",
              "    <tr>\n",
              "      <th>1</th>\n",
              "      <td>201812180000.jpg</td>\n",
              "      <td>2018-12-18 09:54:00</td>\n",
              "    </tr>\n",
              "    <tr>\n",
              "      <th>2</th>\n",
              "      <td>201812171400.jpg</td>\n",
              "      <td>2018-12-19 00:11:24</td>\n",
              "    </tr>\n",
              "    <tr>\n",
              "      <th>3</th>\n",
              "      <td>201812171200.jpg</td>\n",
              "      <td>2018-12-19 07:02:24</td>\n",
              "    </tr>\n",
              "    <tr>\n",
              "      <th>4</th>\n",
              "      <td>201812172200.jpg</td>\n",
              "      <td>2018-12-18 11:23:24</td>\n",
              "    </tr>\n",
              "    <tr>\n",
              "      <th>5</th>\n",
              "      <td>201812171600.jpg</td>\n",
              "      <td>2018-12-18 23:34:12</td>\n",
              "    </tr>\n",
              "    <tr>\n",
              "      <th>6</th>\n",
              "      <td>201812171800.jpg</td>\n",
              "      <td>2018-12-18 22:27:36</td>\n",
              "    </tr>\n",
              "    <tr>\n",
              "      <th>7</th>\n",
              "      <td>201812172000.jpg</td>\n",
              "      <td>2018-12-18 08:54:36</td>\n",
              "    </tr>\n",
              "    <tr>\n",
              "      <th>8</th>\n",
              "      <td>201812180600.jpg</td>\n",
              "      <td>2018-12-19 05:39:00</td>\n",
              "    </tr>\n",
              "    <tr>\n",
              "      <th>9</th>\n",
              "      <td>201812180400.jpg</td>\n",
              "      <td>2018-12-18 13:52:48</td>\n",
              "    </tr>\n",
              "  </tbody>\n",
              "</table>\n",
              "</div>"
            ],
            "text/plain": [
              "           filename          prediction\n",
              "0  201812180200.jpg 2018-12-19 06:10:48\n",
              "1  201812180000.jpg 2018-12-18 09:54:00\n",
              "2  201812171400.jpg 2018-12-19 00:11:24\n",
              "3  201812171200.jpg 2018-12-19 07:02:24\n",
              "4  201812172200.jpg 2018-12-18 11:23:24\n",
              "5  201812171600.jpg 2018-12-18 23:34:12\n",
              "6  201812171800.jpg 2018-12-18 22:27:36\n",
              "7  201812172000.jpg 2018-12-18 08:54:36\n",
              "8  201812180600.jpg 2018-12-19 05:39:00\n",
              "9  201812180400.jpg 2018-12-18 13:52:48"
            ]
          },
          "metadata": {
            "tags": []
          },
          "execution_count": 55
        }
      ]
    },
    {
      "cell_type": "code",
      "metadata": {
        "id": "iBG6trJloAVG"
      },
      "source": [
        ""
      ],
      "execution_count": null,
      "outputs": []
    }
  ]
}