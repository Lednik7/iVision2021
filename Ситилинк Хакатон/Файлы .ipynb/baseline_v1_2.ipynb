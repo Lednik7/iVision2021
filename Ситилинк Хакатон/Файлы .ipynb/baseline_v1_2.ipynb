{
  "nbformat": 4,
  "nbformat_minor": 0,
  "metadata": {
    "accelerator": "GPU",
    "colab": {
      "name": "baseline_v1.2.ipynb",
      "provenance": [],
      "collapsed_sections": []
    },
    "kernelspec": {
      "display_name": "Python 3",
      "language": "python",
      "name": "python3"
    },
    "language_info": {
      "codemirror_mode": {
        "name": "ipython",
        "version": 3
      },
      "file_extension": ".py",
      "mimetype": "text/x-python",
      "name": "python",
      "nbconvert_exporter": "python",
      "pygments_lexer": "ipython3",
      "version": "3.8.3"
    },
    "widgets": {
      "application/vnd.jupyter.widget-state+json": {
        "b970979c554b4cc1855d8a395be19bd7": {
          "model_module": "@jupyter-widgets/controls",
          "model_name": "HBoxModel",
          "state": {
            "_view_name": "HBoxView",
            "_dom_classes": [],
            "_model_name": "HBoxModel",
            "_view_module": "@jupyter-widgets/controls",
            "_model_module_version": "1.5.0",
            "_view_count": null,
            "_view_module_version": "1.5.0",
            "box_style": "",
            "layout": "IPY_MODEL_37e27d1231a645ba9fb0e9fc04995ed3",
            "_model_module": "@jupyter-widgets/controls",
            "children": [
              "IPY_MODEL_94e5e6fa69e04de8b6b02af31cb1cfd5",
              "IPY_MODEL_fd09b9dcea6e450a90acb9a2c99e1aff"
            ]
          }
        },
        "37e27d1231a645ba9fb0e9fc04995ed3": {
          "model_module": "@jupyter-widgets/base",
          "model_name": "LayoutModel",
          "state": {
            "_view_name": "LayoutView",
            "grid_template_rows": null,
            "right": null,
            "justify_content": null,
            "_view_module": "@jupyter-widgets/base",
            "overflow": null,
            "_model_module_version": "1.2.0",
            "_view_count": null,
            "flex_flow": null,
            "width": null,
            "min_width": null,
            "border": null,
            "align_items": null,
            "bottom": null,
            "_model_module": "@jupyter-widgets/base",
            "top": null,
            "grid_column": null,
            "overflow_y": null,
            "overflow_x": null,
            "grid_auto_flow": null,
            "grid_area": null,
            "grid_template_columns": null,
            "flex": null,
            "_model_name": "LayoutModel",
            "justify_items": null,
            "grid_row": null,
            "max_height": null,
            "align_content": null,
            "visibility": null,
            "align_self": null,
            "height": null,
            "min_height": null,
            "padding": null,
            "grid_auto_rows": null,
            "grid_gap": null,
            "max_width": null,
            "order": null,
            "_view_module_version": "1.2.0",
            "grid_template_areas": null,
            "object_position": null,
            "object_fit": null,
            "grid_auto_columns": null,
            "margin": null,
            "display": null,
            "left": null
          }
        },
        "94e5e6fa69e04de8b6b02af31cb1cfd5": {
          "model_module": "@jupyter-widgets/controls",
          "model_name": "FloatProgressModel",
          "state": {
            "_view_name": "ProgressView",
            "style": "IPY_MODEL_ae807cef98dc4865a87da3e12947cd97",
            "_dom_classes": [],
            "description": "100%",
            "_model_name": "FloatProgressModel",
            "bar_style": "success",
            "max": 10,
            "_view_module": "@jupyter-widgets/controls",
            "_model_module_version": "1.5.0",
            "value": 10,
            "_view_count": null,
            "_view_module_version": "1.5.0",
            "orientation": "horizontal",
            "min": 0,
            "description_tooltip": null,
            "_model_module": "@jupyter-widgets/controls",
            "layout": "IPY_MODEL_c95c0707e757416c827dfa1b5d0c3562"
          }
        },
        "fd09b9dcea6e450a90acb9a2c99e1aff": {
          "model_module": "@jupyter-widgets/controls",
          "model_name": "HTMLModel",
          "state": {
            "_view_name": "HTMLView",
            "style": "IPY_MODEL_73fb3fcae339436c93adc58ff15ee91e",
            "_dom_classes": [],
            "description": "",
            "_model_name": "HTMLModel",
            "placeholder": "​",
            "_view_module": "@jupyter-widgets/controls",
            "_model_module_version": "1.5.0",
            "value": " 10/10 [00:00&lt;00:00, 27.83it/s]",
            "_view_count": null,
            "_view_module_version": "1.5.0",
            "description_tooltip": null,
            "_model_module": "@jupyter-widgets/controls",
            "layout": "IPY_MODEL_3b745c22be1b40e4b25faef0753111c0"
          }
        },
        "ae807cef98dc4865a87da3e12947cd97": {
          "model_module": "@jupyter-widgets/controls",
          "model_name": "ProgressStyleModel",
          "state": {
            "_view_name": "StyleView",
            "_model_name": "ProgressStyleModel",
            "description_width": "initial",
            "_view_module": "@jupyter-widgets/base",
            "_model_module_version": "1.5.0",
            "_view_count": null,
            "_view_module_version": "1.2.0",
            "bar_color": null,
            "_model_module": "@jupyter-widgets/controls"
          }
        },
        "c95c0707e757416c827dfa1b5d0c3562": {
          "model_module": "@jupyter-widgets/base",
          "model_name": "LayoutModel",
          "state": {
            "_view_name": "LayoutView",
            "grid_template_rows": null,
            "right": null,
            "justify_content": null,
            "_view_module": "@jupyter-widgets/base",
            "overflow": null,
            "_model_module_version": "1.2.0",
            "_view_count": null,
            "flex_flow": null,
            "width": null,
            "min_width": null,
            "border": null,
            "align_items": null,
            "bottom": null,
            "_model_module": "@jupyter-widgets/base",
            "top": null,
            "grid_column": null,
            "overflow_y": null,
            "overflow_x": null,
            "grid_auto_flow": null,
            "grid_area": null,
            "grid_template_columns": null,
            "flex": null,
            "_model_name": "LayoutModel",
            "justify_items": null,
            "grid_row": null,
            "max_height": null,
            "align_content": null,
            "visibility": null,
            "align_self": null,
            "height": null,
            "min_height": null,
            "padding": null,
            "grid_auto_rows": null,
            "grid_gap": null,
            "max_width": null,
            "order": null,
            "_view_module_version": "1.2.0",
            "grid_template_areas": null,
            "object_position": null,
            "object_fit": null,
            "grid_auto_columns": null,
            "margin": null,
            "display": null,
            "left": null
          }
        },
        "73fb3fcae339436c93adc58ff15ee91e": {
          "model_module": "@jupyter-widgets/controls",
          "model_name": "DescriptionStyleModel",
          "state": {
            "_view_name": "StyleView",
            "_model_name": "DescriptionStyleModel",
            "description_width": "",
            "_view_module": "@jupyter-widgets/base",
            "_model_module_version": "1.5.0",
            "_view_count": null,
            "_view_module_version": "1.2.0",
            "_model_module": "@jupyter-widgets/controls"
          }
        },
        "3b745c22be1b40e4b25faef0753111c0": {
          "model_module": "@jupyter-widgets/base",
          "model_name": "LayoutModel",
          "state": {
            "_view_name": "LayoutView",
            "grid_template_rows": null,
            "right": null,
            "justify_content": null,
            "_view_module": "@jupyter-widgets/base",
            "overflow": null,
            "_model_module_version": "1.2.0",
            "_view_count": null,
            "flex_flow": null,
            "width": null,
            "min_width": null,
            "border": null,
            "align_items": null,
            "bottom": null,
            "_model_module": "@jupyter-widgets/base",
            "top": null,
            "grid_column": null,
            "overflow_y": null,
            "overflow_x": null,
            "grid_auto_flow": null,
            "grid_area": null,
            "grid_template_columns": null,
            "flex": null,
            "_model_name": "LayoutModel",
            "justify_items": null,
            "grid_row": null,
            "max_height": null,
            "align_content": null,
            "visibility": null,
            "align_self": null,
            "height": null,
            "min_height": null,
            "padding": null,
            "grid_auto_rows": null,
            "grid_gap": null,
            "max_width": null,
            "order": null,
            "_view_module_version": "1.2.0",
            "grid_template_areas": null,
            "object_position": null,
            "object_fit": null,
            "grid_auto_columns": null,
            "margin": null,
            "display": null,
            "left": null
          }
        },
        "a8cc461fcf064bb9b0f7b2a8000a5a16": {
          "model_module": "@jupyter-widgets/controls",
          "model_name": "HBoxModel",
          "state": {
            "_view_name": "HBoxView",
            "_dom_classes": [],
            "_model_name": "HBoxModel",
            "_view_module": "@jupyter-widgets/controls",
            "_model_module_version": "1.5.0",
            "_view_count": null,
            "_view_module_version": "1.5.0",
            "box_style": "",
            "layout": "IPY_MODEL_33189826768a489680fbc27390c9dee2",
            "_model_module": "@jupyter-widgets/controls",
            "children": [
              "IPY_MODEL_792e676f47c743c19bb586e0d6b2eb1e",
              "IPY_MODEL_c500585c79e2451f95287884d8226c2e"
            ]
          }
        },
        "33189826768a489680fbc27390c9dee2": {
          "model_module": "@jupyter-widgets/base",
          "model_name": "LayoutModel",
          "state": {
            "_view_name": "LayoutView",
            "grid_template_rows": null,
            "right": null,
            "justify_content": null,
            "_view_module": "@jupyter-widgets/base",
            "overflow": null,
            "_model_module_version": "1.2.0",
            "_view_count": null,
            "flex_flow": null,
            "width": null,
            "min_width": null,
            "border": null,
            "align_items": null,
            "bottom": null,
            "_model_module": "@jupyter-widgets/base",
            "top": null,
            "grid_column": null,
            "overflow_y": null,
            "overflow_x": null,
            "grid_auto_flow": null,
            "grid_area": null,
            "grid_template_columns": null,
            "flex": null,
            "_model_name": "LayoutModel",
            "justify_items": null,
            "grid_row": null,
            "max_height": null,
            "align_content": null,
            "visibility": null,
            "align_self": null,
            "height": null,
            "min_height": null,
            "padding": null,
            "grid_auto_rows": null,
            "grid_gap": null,
            "max_width": null,
            "order": null,
            "_view_module_version": "1.2.0",
            "grid_template_areas": null,
            "object_position": null,
            "object_fit": null,
            "grid_auto_columns": null,
            "margin": null,
            "display": null,
            "left": null
          }
        },
        "792e676f47c743c19bb586e0d6b2eb1e": {
          "model_module": "@jupyter-widgets/controls",
          "model_name": "FloatProgressModel",
          "state": {
            "_view_name": "ProgressView",
            "style": "IPY_MODEL_44cf58142fff4248ad09c83663810731",
            "_dom_classes": [],
            "description": "100%",
            "_model_name": "FloatProgressModel",
            "bar_style": "success",
            "max": 10,
            "_view_module": "@jupyter-widgets/controls",
            "_model_module_version": "1.5.0",
            "value": 10,
            "_view_count": null,
            "_view_module_version": "1.5.0",
            "orientation": "horizontal",
            "min": 0,
            "description_tooltip": null,
            "_model_module": "@jupyter-widgets/controls",
            "layout": "IPY_MODEL_a71d3742b23842d0a7b0832a8576d5bf"
          }
        },
        "c500585c79e2451f95287884d8226c2e": {
          "model_module": "@jupyter-widgets/controls",
          "model_name": "HTMLModel",
          "state": {
            "_view_name": "HTMLView",
            "style": "IPY_MODEL_3d7dd7a6908a4f4e854bb9eceaf39f41",
            "_dom_classes": [],
            "description": "",
            "_model_name": "HTMLModel",
            "placeholder": "​",
            "_view_module": "@jupyter-widgets/controls",
            "_model_module_version": "1.5.0",
            "value": " 10/10 [00:02&lt;00:00,  3.99it/s]",
            "_view_count": null,
            "_view_module_version": "1.5.0",
            "description_tooltip": null,
            "_model_module": "@jupyter-widgets/controls",
            "layout": "IPY_MODEL_bf39ab978d2c4a21954c6c8e9229984c"
          }
        },
        "44cf58142fff4248ad09c83663810731": {
          "model_module": "@jupyter-widgets/controls",
          "model_name": "ProgressStyleModel",
          "state": {
            "_view_name": "StyleView",
            "_model_name": "ProgressStyleModel",
            "description_width": "initial",
            "_view_module": "@jupyter-widgets/base",
            "_model_module_version": "1.5.0",
            "_view_count": null,
            "_view_module_version": "1.2.0",
            "bar_color": null,
            "_model_module": "@jupyter-widgets/controls"
          }
        },
        "a71d3742b23842d0a7b0832a8576d5bf": {
          "model_module": "@jupyter-widgets/base",
          "model_name": "LayoutModel",
          "state": {
            "_view_name": "LayoutView",
            "grid_template_rows": null,
            "right": null,
            "justify_content": null,
            "_view_module": "@jupyter-widgets/base",
            "overflow": null,
            "_model_module_version": "1.2.0",
            "_view_count": null,
            "flex_flow": null,
            "width": null,
            "min_width": null,
            "border": null,
            "align_items": null,
            "bottom": null,
            "_model_module": "@jupyter-widgets/base",
            "top": null,
            "grid_column": null,
            "overflow_y": null,
            "overflow_x": null,
            "grid_auto_flow": null,
            "grid_area": null,
            "grid_template_columns": null,
            "flex": null,
            "_model_name": "LayoutModel",
            "justify_items": null,
            "grid_row": null,
            "max_height": null,
            "align_content": null,
            "visibility": null,
            "align_self": null,
            "height": null,
            "min_height": null,
            "padding": null,
            "grid_auto_rows": null,
            "grid_gap": null,
            "max_width": null,
            "order": null,
            "_view_module_version": "1.2.0",
            "grid_template_areas": null,
            "object_position": null,
            "object_fit": null,
            "grid_auto_columns": null,
            "margin": null,
            "display": null,
            "left": null
          }
        },
        "3d7dd7a6908a4f4e854bb9eceaf39f41": {
          "model_module": "@jupyter-widgets/controls",
          "model_name": "DescriptionStyleModel",
          "state": {
            "_view_name": "StyleView",
            "_model_name": "DescriptionStyleModel",
            "description_width": "",
            "_view_module": "@jupyter-widgets/base",
            "_model_module_version": "1.5.0",
            "_view_count": null,
            "_view_module_version": "1.2.0",
            "_model_module": "@jupyter-widgets/controls"
          }
        },
        "bf39ab978d2c4a21954c6c8e9229984c": {
          "model_module": "@jupyter-widgets/base",
          "model_name": "LayoutModel",
          "state": {
            "_view_name": "LayoutView",
            "grid_template_rows": null,
            "right": null,
            "justify_content": null,
            "_view_module": "@jupyter-widgets/base",
            "overflow": null,
            "_model_module_version": "1.2.0",
            "_view_count": null,
            "flex_flow": null,
            "width": null,
            "min_width": null,
            "border": null,
            "align_items": null,
            "bottom": null,
            "_model_module": "@jupyter-widgets/base",
            "top": null,
            "grid_column": null,
            "overflow_y": null,
            "overflow_x": null,
            "grid_auto_flow": null,
            "grid_area": null,
            "grid_template_columns": null,
            "flex": null,
            "_model_name": "LayoutModel",
            "justify_items": null,
            "grid_row": null,
            "max_height": null,
            "align_content": null,
            "visibility": null,
            "align_self": null,
            "height": null,
            "min_height": null,
            "padding": null,
            "grid_auto_rows": null,
            "grid_gap": null,
            "max_width": null,
            "order": null,
            "_view_module_version": "1.2.0",
            "grid_template_areas": null,
            "object_position": null,
            "object_fit": null,
            "grid_auto_columns": null,
            "margin": null,
            "display": null,
            "left": null
          }
        }
      }
    }
  },
  "cells": [
    {
      "cell_type": "code",
      "metadata": {
        "colab": {
          "base_uri": "https://localhost:8080/"
        },
        "id": "nMagnz9nqtF3",
        "outputId": "e45a5b07-75c3-4a2d-e582-8a424a741666"
      },
      "source": [
        "from google.colab import drive\n",
        "drive.mount('/content/drive')\n",
        "!pip install catboost"
      ],
      "execution_count": 1,
      "outputs": [
        {
          "output_type": "stream",
          "text": [
            "Mounted at /content/drive\n",
            "Collecting catboost\n",
            "\u001b[?25l  Downloading https://files.pythonhosted.org/packages/96/3b/bb419654adcf7efff42ed8a3f84e50c8f236424b7ed1cc8ccd290852e003/catboost-0.24.4-cp37-none-manylinux1_x86_64.whl (65.7MB)\n",
            "\u001b[K     |████████████████████████████████| 65.7MB 40kB/s \n",
            "\u001b[?25hRequirement already satisfied: six in /usr/local/lib/python3.7/dist-packages (from catboost) (1.15.0)\n",
            "Requirement already satisfied: pandas>=0.24.0 in /usr/local/lib/python3.7/dist-packages (from catboost) (1.1.5)\n",
            "Requirement already satisfied: scipy in /usr/local/lib/python3.7/dist-packages (from catboost) (1.4.1)\n",
            "Requirement already satisfied: graphviz in /usr/local/lib/python3.7/dist-packages (from catboost) (0.10.1)\n",
            "Requirement already satisfied: plotly in /usr/local/lib/python3.7/dist-packages (from catboost) (4.4.1)\n",
            "Requirement already satisfied: matplotlib in /usr/local/lib/python3.7/dist-packages (from catboost) (3.2.2)\n",
            "Requirement already satisfied: numpy>=1.16.0 in /usr/local/lib/python3.7/dist-packages (from catboost) (1.19.5)\n",
            "Requirement already satisfied: pytz>=2017.2 in /usr/local/lib/python3.7/dist-packages (from pandas>=0.24.0->catboost) (2018.9)\n",
            "Requirement already satisfied: python-dateutil>=2.7.3 in /usr/local/lib/python3.7/dist-packages (from pandas>=0.24.0->catboost) (2.8.1)\n",
            "Requirement already satisfied: retrying>=1.3.3 in /usr/local/lib/python3.7/dist-packages (from plotly->catboost) (1.3.3)\n",
            "Requirement already satisfied: kiwisolver>=1.0.1 in /usr/local/lib/python3.7/dist-packages (from matplotlib->catboost) (1.3.1)\n",
            "Requirement already satisfied: pyparsing!=2.0.4,!=2.1.2,!=2.1.6,>=2.0.1 in /usr/local/lib/python3.7/dist-packages (from matplotlib->catboost) (2.4.7)\n",
            "Requirement already satisfied: cycler>=0.10 in /usr/local/lib/python3.7/dist-packages (from matplotlib->catboost) (0.10.0)\n",
            "Installing collected packages: catboost\n",
            "Successfully installed catboost-0.24.4\n"
          ],
          "name": "stdout"
        }
      ]
    },
    {
      "cell_type": "code",
      "metadata": {
        "id": "PqQZDm8dqxLi"
      },
      "source": [
        "path = \"./drive/My Drive/Ситилинк Хакатон/\"\n",
        "# path = \"./drive/My Drive/ivision/\""
      ],
      "execution_count": 2,
      "outputs": []
    },
    {
      "cell_type": "code",
      "metadata": {
        "id": "_Ci79nWfOdGz"
      },
      "source": [
        "import os\n",
        "from torchvision import transforms\n",
        "import pickle\n",
        "import pandas as pd\n",
        "import torch\n",
        "from tqdm.notebook import tqdm\n",
        "from PIL import Image\n",
        "import numpy as np\n",
        "import datetime\n",
        "\n",
        "# использует GPU при наличии\n",
        "class LakeModel():\n",
        "    def __init__(self, models_path):\n",
        "        self.device = torch.device('cuda' if \n",
        "                                   torch.cuda.is_available() else 'cpu')\n",
        "        self.network = torch.load(os.path.join(models_path, \"network.pth\"))\n",
        "        self.network = self.network.to(self.device)\n",
        "        self.network.eval()\n",
        "        with open(os.path.join(models_path, \"ModernClassifier.pkl\"), \"rb\") as f:\n",
        "            self.classifier = pickle.load(f)\n",
        "        with open(os.path.join(models_path, \"ModernRegressor.pkl\"), \"rb\") as f:\n",
        "            self.regressor = pickle.load(f)\n",
        "        self.transform = transforms.ToTensor()\n",
        "        self.size = (128, 128)\n",
        "        self.columns = ['hour', 'year', 'week', 'day',\n",
        "                        'days_in_month', 'month', 'quarter', 'season',\n",
        "                        'prediction']\n",
        "        self.df = None\n",
        "\n",
        " \n",
        "    def date_to_data(self, frame, name=\"date\", suffix=\"\"):\n",
        "        assert name in frame, \"Нужна колонка с датой\"\n",
        "        date = frame[name].dt\n",
        "        info = pd.concat([date.days_in_month,\n",
        "                        date.month,\n",
        "                        date.quarter,\n",
        "                        date.month % 12 // 3 + 1,\n",
        "                        date.hour], axis=1)\n",
        "        info.columns = [\"days_in_month\", \"month\",\n",
        "                        \"quarter\", \"season\", \"hour\"]\n",
        "        temp = pd.concat([date.isocalendar(),\n",
        "                        info], axis=1)\n",
        "        temp.columns = temp.columns + suffix\n",
        "        frame = pd.concat([frame, temp], axis=1)\n",
        "        return frame\n",
        "    \n",
        "    def predict_network(self, path_):\n",
        "        predictions = []\n",
        "        for filename in tqdm(os.listdir(path_)):\n",
        "            with Image.open(os.path.join(path_, filename)) as image:\n",
        "                image = image.resize(self.size)\n",
        "            X = self.transform(image)\n",
        "            X = X.view(1, *X.size()).to(self.device)\n",
        "            prediction = self.network(X).argmax(dim=1).item()\n",
        "            predictions.append([filename, prediction])\n",
        "        return predictions\n",
        "    \n",
        "    def check_anomaly(self, output):\n",
        "        arr = []\n",
        "        for name, value in output:\n",
        "            if pd.to_datetime(name[:-4]).month in [6, 7, 8]:\n",
        "                arr.append([name, 0])\n",
        "            else:\n",
        "                arr.append([name, value])\n",
        "        return arr\n",
        "\n",
        "    def prepare(self, path_):\n",
        "        df = pd.DataFrame(os.listdir(path_), columns=[\"name\"])\n",
        "        df[\"time_parsed\"] = pd.to_datetime(df[\"name\"].apply(lambda x: x[:-4]))\n",
        "        df = self.date_to_data(df, name=\"time_parsed\")\n",
        "\n",
        "        predictions = self.predict_network(path_)\n",
        "        predictions_df = pd.DataFrame(predictions,\n",
        "                                      columns=[\"filename\", \"prediction\"])\n",
        "        df = df.merge(predictions_df, left_on=\"name\", right_on=\"filename\")\n",
        "  \n",
        "        self.df = df\n",
        "    \n",
        "    def predict_classification(self, path_):\n",
        "        self.prepare(path_)\n",
        "        output = zip(self.df[\"name\"], self.classifier.predict(self.df[self.columns]\\\n",
        "                                                         .astype(np.float32)))\n",
        "        return pd.DataFrame(self.check_anomaly(output),\n",
        "                            columns=[\"filename\", \"prediction\"])\n",
        "    \n",
        "    def time2path(self, d_object):\n",
        "        if (d_object.hour % 2 != 0):\n",
        "          time_h = round(int(d_object.hour) + int(d_object.minute) / 60)\n",
        "          \n",
        "          if (time_h % 2 != 0): time_h -= 1\n",
        "          if (time_h > 23): time_h = 0\n",
        "          if (time_h < 0): time_h = 23\n",
        "\n",
        "          d_object = d_object.replace(hour=time_h)\n",
        "\n",
        "        return datetime.datetime.strftime(d_object.replace(minute=0, second=0), \"%Y%m%d%H%M\") + \".jpg\"\n",
        "\n",
        "    def predict_regreassion(self, path_):\n",
        "        self.prepare(path_)\n",
        "        output = zip(self.df[\"name\"], self.regressor.predict(self.df[self.columns]\\\n",
        "                                                             .astype(np.float32)))\n",
        "        \n",
        "        output = pd.DataFrame(output, columns=[\"filename\", \"prediction\"])\n",
        "        output[output[\"prediction\"] < 0] = 0\n",
        "        output[\"prediction\"] = np.round(output[\"prediction\"], 2)\n",
        "        output[\"time\"] = pd.to_datetime(output[\"filename\"].apply(lambda x: x[:-4]))\n",
        "        output[\"delta\"] = output[\"prediction\"].apply(lambda x: datetime.timedelta(hours=x))\n",
        "        output[\"prediction\"] = output[\"time\"].dt.to_pydatetime() + output[\"delta\"]\n",
        "        \n",
        "        output[\"prediction_photo\"] = output[\"prediction\"].apply(lambda x: self.time2path(x))\n",
        "        \n",
        "        return output[[\"filename\", \"prediction\", \"prediction_photo\"]]"
      ],
      "execution_count": 3,
      "outputs": []
    },
    {
      "cell_type": "code",
      "metadata": {
        "id": "VhrH9EPOPkzv"
      },
      "source": [
        "model = LakeModel(path) # путь к моделям"
      ],
      "execution_count": 5,
      "outputs": []
    },
    {
      "cell_type": "markdown",
      "metadata": {
        "id": "grdDpX6pt4r5"
      },
      "source": [
        "# Предсказываем установился лед на озере или нет"
      ]
    },
    {
      "cell_type": "code",
      "metadata": {
        "colab": {
          "base_uri": "https://localhost:8080/",
          "height": 65,
          "referenced_widgets": [
            "b970979c554b4cc1855d8a395be19bd7",
            "37e27d1231a645ba9fb0e9fc04995ed3",
            "94e5e6fa69e04de8b6b02af31cb1cfd5",
            "fd09b9dcea6e450a90acb9a2c99e1aff",
            "ae807cef98dc4865a87da3e12947cd97",
            "c95c0707e757416c827dfa1b5d0c3562",
            "73fb3fcae339436c93adc58ff15ee91e",
            "3b745c22be1b40e4b25faef0753111c0"
          ]
        },
        "id": "KqxE9tDDr7LC",
        "outputId": "cbe555ab-2d81-467d-96d2-384f38751fbe"
      },
      "source": [
        "predictions = model.predict_classification(os.path.join(path, \"random\")) # путь к папке с фото"
      ],
      "execution_count": 8,
      "outputs": [
        {
          "output_type": "display_data",
          "data": {
            "application/vnd.jupyter.widget-view+json": {
              "model_id": "b970979c554b4cc1855d8a395be19bd7",
              "version_minor": 0,
              "version_major": 2
            },
            "text/plain": [
              "HBox(children=(FloatProgress(value=0.0, max=10.0), HTML(value='')))"
            ]
          },
          "metadata": {
            "tags": []
          }
        },
        {
          "output_type": "stream",
          "text": [
            "\n"
          ],
          "name": "stdout"
        }
      ]
    },
    {
      "cell_type": "code",
      "metadata": {
        "colab": {
          "base_uri": "https://localhost:8080/",
          "height": 335
        },
        "id": "EqXUYHG4tVP5",
        "outputId": "f285ce4a-3537-432b-d1da-22c42e74bfbd"
      },
      "source": [
        "predictions"
      ],
      "execution_count": 9,
      "outputs": [
        {
          "output_type": "execute_result",
          "data": {
            "text/html": [
              "<div>\n",
              "<style scoped>\n",
              "    .dataframe tbody tr th:only-of-type {\n",
              "        vertical-align: middle;\n",
              "    }\n",
              "\n",
              "    .dataframe tbody tr th {\n",
              "        vertical-align: top;\n",
              "    }\n",
              "\n",
              "    .dataframe thead th {\n",
              "        text-align: right;\n",
              "    }\n",
              "</style>\n",
              "<table border=\"1\" class=\"dataframe\">\n",
              "  <thead>\n",
              "    <tr style=\"text-align: right;\">\n",
              "      <th></th>\n",
              "      <th>filename</th>\n",
              "      <th>prediction</th>\n",
              "    </tr>\n",
              "  </thead>\n",
              "  <tbody>\n",
              "    <tr>\n",
              "      <th>0</th>\n",
              "      <td>201812180200.jpg</td>\n",
              "      <td>0</td>\n",
              "    </tr>\n",
              "    <tr>\n",
              "      <th>1</th>\n",
              "      <td>201812180000.jpg</td>\n",
              "      <td>0</td>\n",
              "    </tr>\n",
              "    <tr>\n",
              "      <th>2</th>\n",
              "      <td>201812171400.jpg</td>\n",
              "      <td>0</td>\n",
              "    </tr>\n",
              "    <tr>\n",
              "      <th>3</th>\n",
              "      <td>201812171200.jpg</td>\n",
              "      <td>0</td>\n",
              "    </tr>\n",
              "    <tr>\n",
              "      <th>4</th>\n",
              "      <td>201812172200.jpg</td>\n",
              "      <td>0</td>\n",
              "    </tr>\n",
              "    <tr>\n",
              "      <th>5</th>\n",
              "      <td>201812171600.jpg</td>\n",
              "      <td>0</td>\n",
              "    </tr>\n",
              "    <tr>\n",
              "      <th>6</th>\n",
              "      <td>201812171800.jpg</td>\n",
              "      <td>0</td>\n",
              "    </tr>\n",
              "    <tr>\n",
              "      <th>7</th>\n",
              "      <td>201812172000.jpg</td>\n",
              "      <td>0</td>\n",
              "    </tr>\n",
              "    <tr>\n",
              "      <th>8</th>\n",
              "      <td>201812180600.jpg</td>\n",
              "      <td>0</td>\n",
              "    </tr>\n",
              "    <tr>\n",
              "      <th>9</th>\n",
              "      <td>201812180400.jpg</td>\n",
              "      <td>0</td>\n",
              "    </tr>\n",
              "  </tbody>\n",
              "</table>\n",
              "</div>"
            ],
            "text/plain": [
              "           filename  prediction\n",
              "0  201812180200.jpg           0\n",
              "1  201812180000.jpg           0\n",
              "2  201812171400.jpg           0\n",
              "3  201812171200.jpg           0\n",
              "4  201812172200.jpg           0\n",
              "5  201812171600.jpg           0\n",
              "6  201812171800.jpg           0\n",
              "7  201812172000.jpg           0\n",
              "8  201812180600.jpg           0\n",
              "9  201812180400.jpg           0"
            ]
          },
          "metadata": {
            "tags": []
          },
          "execution_count": 9
        }
      ]
    },
    {
      "cell_type": "markdown",
      "metadata": {
        "id": "8xy5v--yuJGR"
      },
      "source": [
        "# Предсказываем дату и время полного замерзания Петрозаводской губы Онежского озера"
      ]
    },
    {
      "cell_type": "code",
      "metadata": {
        "colab": {
          "base_uri": "https://localhost:8080/",
          "height": 97,
          "referenced_widgets": [
            "a8cc461fcf064bb9b0f7b2a8000a5a16",
            "33189826768a489680fbc27390c9dee2",
            "792e676f47c743c19bb586e0d6b2eb1e",
            "c500585c79e2451f95287884d8226c2e",
            "44cf58142fff4248ad09c83663810731",
            "a71d3742b23842d0a7b0832a8576d5bf",
            "3d7dd7a6908a4f4e854bb9eceaf39f41",
            "bf39ab978d2c4a21954c6c8e9229984c"
          ]
        },
        "id": "2UQxDfcUNbFb",
        "outputId": "85dbc973-ef3b-4c12-82c1-34fb3cc565bf"
      },
      "source": [
        "predictions = model.predict_regreassion(os.path.join(path, \"random\")) # путь к папке с фото"
      ],
      "execution_count": 10,
      "outputs": [
        {
          "output_type": "display_data",
          "data": {
            "application/vnd.jupyter.widget-view+json": {
              "model_id": "a8cc461fcf064bb9b0f7b2a8000a5a16",
              "version_minor": 0,
              "version_major": 2
            },
            "text/plain": [
              "HBox(children=(FloatProgress(value=0.0, max=10.0), HTML(value='')))"
            ]
          },
          "metadata": {
            "tags": []
          }
        },
        {
          "output_type": "stream",
          "text": [
            "\n"
          ],
          "name": "stdout"
        },
        {
          "output_type": "stream",
          "text": [
            "/usr/local/lib/python3.7/dist-packages/pandas/core/arrays/datetimelike.py:1345: PerformanceWarning: Adding/subtracting object-dtype array to TimedeltaArray not vectorized\n",
            "  PerformanceWarning,\n"
          ],
          "name": "stderr"
        }
      ]
    },
    {
      "cell_type": "code",
      "metadata": {
        "colab": {
          "base_uri": "https://localhost:8080/",
          "height": 335
        },
        "id": "TGTtp00ENei5",
        "outputId": "68fd7aff-379e-41e5-93b6-c68853377de6"
      },
      "source": [
        "predictions"
      ],
      "execution_count": 11,
      "outputs": [
        {
          "output_type": "execute_result",
          "data": {
            "text/html": [
              "<div>\n",
              "<style scoped>\n",
              "    .dataframe tbody tr th:only-of-type {\n",
              "        vertical-align: middle;\n",
              "    }\n",
              "\n",
              "    .dataframe tbody tr th {\n",
              "        vertical-align: top;\n",
              "    }\n",
              "\n",
              "    .dataframe thead th {\n",
              "        text-align: right;\n",
              "    }\n",
              "</style>\n",
              "<table border=\"1\" class=\"dataframe\">\n",
              "  <thead>\n",
              "    <tr style=\"text-align: right;\">\n",
              "      <th></th>\n",
              "      <th>filename</th>\n",
              "      <th>prediction</th>\n",
              "      <th>prediction_photo</th>\n",
              "    </tr>\n",
              "  </thead>\n",
              "  <tbody>\n",
              "    <tr>\n",
              "      <th>0</th>\n",
              "      <td>201812180200.jpg</td>\n",
              "      <td>2018-12-19 06:10:48</td>\n",
              "      <td>201812190600.jpg</td>\n",
              "    </tr>\n",
              "    <tr>\n",
              "      <th>1</th>\n",
              "      <td>201812180000.jpg</td>\n",
              "      <td>2018-12-18 09:54:00</td>\n",
              "      <td>201812181000.jpg</td>\n",
              "    </tr>\n",
              "    <tr>\n",
              "      <th>2</th>\n",
              "      <td>201812171400.jpg</td>\n",
              "      <td>2018-12-19 00:11:24</td>\n",
              "      <td>201812190000.jpg</td>\n",
              "    </tr>\n",
              "    <tr>\n",
              "      <th>3</th>\n",
              "      <td>201812171200.jpg</td>\n",
              "      <td>2018-12-19 07:02:24</td>\n",
              "      <td>201812190600.jpg</td>\n",
              "    </tr>\n",
              "    <tr>\n",
              "      <th>4</th>\n",
              "      <td>201812172200.jpg</td>\n",
              "      <td>2018-12-18 11:23:24</td>\n",
              "      <td>201812181000.jpg</td>\n",
              "    </tr>\n",
              "    <tr>\n",
              "      <th>5</th>\n",
              "      <td>201812171600.jpg</td>\n",
              "      <td>2018-12-18 23:34:12</td>\n",
              "      <td>201812180000.jpg</td>\n",
              "    </tr>\n",
              "    <tr>\n",
              "      <th>6</th>\n",
              "      <td>201812171800.jpg</td>\n",
              "      <td>2018-12-18 22:27:36</td>\n",
              "      <td>201812182200.jpg</td>\n",
              "    </tr>\n",
              "    <tr>\n",
              "      <th>7</th>\n",
              "      <td>201812172000.jpg</td>\n",
              "      <td>2018-12-18 08:54:36</td>\n",
              "      <td>201812180800.jpg</td>\n",
              "    </tr>\n",
              "    <tr>\n",
              "      <th>8</th>\n",
              "      <td>201812180600.jpg</td>\n",
              "      <td>2018-12-19 05:39:00</td>\n",
              "      <td>201812190600.jpg</td>\n",
              "    </tr>\n",
              "    <tr>\n",
              "      <th>9</th>\n",
              "      <td>201812180400.jpg</td>\n",
              "      <td>2018-12-18 13:52:48</td>\n",
              "      <td>201812181400.jpg</td>\n",
              "    </tr>\n",
              "  </tbody>\n",
              "</table>\n",
              "</div>"
            ],
            "text/plain": [
              "           filename          prediction  prediction_photo\n",
              "0  201812180200.jpg 2018-12-19 06:10:48  201812190600.jpg\n",
              "1  201812180000.jpg 2018-12-18 09:54:00  201812181000.jpg\n",
              "2  201812171400.jpg 2018-12-19 00:11:24  201812190000.jpg\n",
              "3  201812171200.jpg 2018-12-19 07:02:24  201812190600.jpg\n",
              "4  201812172200.jpg 2018-12-18 11:23:24  201812181000.jpg\n",
              "5  201812171600.jpg 2018-12-18 23:34:12  201812180000.jpg\n",
              "6  201812171800.jpg 2018-12-18 22:27:36  201812182200.jpg\n",
              "7  201812172000.jpg 2018-12-18 08:54:36  201812180800.jpg\n",
              "8  201812180600.jpg 2018-12-19 05:39:00  201812190600.jpg\n",
              "9  201812180400.jpg 2018-12-18 13:52:48  201812181400.jpg"
            ]
          },
          "metadata": {
            "tags": []
          },
          "execution_count": 11
        }
      ]
    }
  ]
}